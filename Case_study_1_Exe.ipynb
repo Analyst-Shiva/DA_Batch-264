{
 "cells": [
  {
   "cell_type": "markdown",
   "id": "7847d6e5",
   "metadata": {},
   "source": [
    "# Introduction\n",
    "Anny seriously loves Japanese food so in the beginning of 2021, he decides to embark upon a risky venture and opens up a cute little restaurant that sells his 3 favourite foods: **sushi, curry and ramen.**\n",
    "\n",
    "Anny’s Diner is in need of your assistance to help the restaurant stay afloat - the restaurant has captured some very basic data from their few months of operation but have no idea how to use their data to help them run the business.\n",
    "\n",
    "## Problem_statement\n",
    "Anny wants to use the data to answer a few simple questions about his customers, especially about their visiting patterns, how much money they’ve spent and also which menu items are their favourite. Having this deeper connection with his customers will help him deliver a better and more personalised experience for his loyal customers.\n",
    "\n",
    "He plans on using these insights to help him decide whether he should expand the existing customer loyalty program - additionally he needs help to generate some basic datasets so his team can easily inspect the data without needing to use SQL.\n",
    "\n",
    "Danny has provided you with a sample of his overall customer data due to privacy issues - but he hopes that these examples are enough for you to write fully functioning pandas code  to help him answer his questions!\n",
    "\n",
    "Anny has shared with you 3 key datasets for this case study:\n",
    "\n",
    "- sales\n",
    "- menu\n",
    "- members"
   ]
  },
  {
   "cell_type": "markdown",
   "id": "933fdc84",
   "metadata": {},
   "source": [
    "### 1. Bring in the necessary libraries for your work. Import the tools and resources needed to accomplish your tasks.\n",
    "### 2.Import the necessary data for analysis. Bring in the information that you need to examine and draw insights from.\n",
    "### 3.Explore the details of all datasets by checking their information.\n",
    "### 4.Make sure that each type of information (like numbers or dates) is stored in the correct way. This helps ensure that the data is accurate and ready for analysis, making your work more reliable and meaningful"
   ]
  },
  {
   "cell_type": "markdown",
   "id": "fb32f8df",
   "metadata": {},
   "source": [
    "### 1. What is the total amount each customer spent at the restaurant?\n",
    "### 2.How many days has each customer visited the restaurant?\n",
    "### 3.What was the first item from the menu purchased by each customer?\n",
    "### 4.What is the most purchased item on the menu and how many times was it purchased by all customers?\n",
    "### 5.Which item was the most popular for each customer?\n",
    "### 6.Which item was purchased first by the customer after they became a member?\n",
    "### 7.Which item was purchased just before the customer became a member?\n",
    "### 8.What is the total items and amount spent for each member before they became a member?\n",
    "### 9.If each  $1 spent equates to 10 points and sushi has a 2x points multiplier - how many points would each customer have?\n",
    "### 10.In the first week after a customer joins the program (including their join date) they earn 2x points on all items, not just sushi - how many points do customer A and B have at the end of January?\n"
   ]
  },
  {
   "cell_type": "markdown",
   "id": "e8bac843",
   "metadata": {},
   "source": []
  },
  {
   "cell_type": "markdown",
   "id": "5ae48854",
   "metadata": {},
   "source": []
  },
  {
   "cell_type": "code",
   "execution_count": 1,
   "id": "f56aceb5",
   "metadata": {},
   "outputs": [
    {
     "name": "stdout",
     "output_type": "stream",
     "text": [
      "Sales Data:\n",
      "  customer_id  order_date  product_id\n",
      "0           A  2021-01-01           1\n",
      "1           A  2021-01-01           2\n",
      "2           A  2021-01-07           2\n",
      "3           A  2021-01-10           3\n",
      "4           A  2021-01-11           3\n",
      "\n",
      "Menu Data:\n",
      "   product_id product_name  price\n",
      "0           1        sushi     10\n",
      "1           2        curry     15\n",
      "2           3        ramen     12\n",
      "\n",
      "Members Data:\n",
      "  customer_id   join_date\n",
      "0           A  2021-01-07\n",
      "1           B  2021-01-09\n"
     ]
    }
   ],
   "source": [
    "import pandas as pd, numpy as np\n",
    "\n",
    "sales_df = pd.read_csv('sales.csv')\n",
    "menu_df = pd.read_csv('menu.csv')\n",
    "members_df = pd.read_csv('members.csv')\n",
    "\n",
    "print(\"Sales Data:\")\n",
    "print(sales_df.head())\n",
    "\n",
    "print(\"\\nMenu Data:\")\n",
    "print(menu_df.head())\n",
    "\n",
    "print(\"\\nMembers Data:\")\n",
    "print(members_df.head())"
   ]
  },
  {
   "cell_type": "code",
   "execution_count": 2,
   "id": "afaac840",
   "metadata": {},
   "outputs": [
    {
     "name": "stdout",
     "output_type": "stream",
     "text": [
      "Sales Data Info:\n",
      "<class 'pandas.core.frame.DataFrame'>\n",
      "RangeIndex: 15 entries, 0 to 14\n",
      "Data columns (total 3 columns):\n",
      " #   Column       Non-Null Count  Dtype \n",
      "---  ------       --------------  ----- \n",
      " 0   customer_id  15 non-null     object\n",
      " 1   order_date   15 non-null     object\n",
      " 2   product_id   15 non-null     int64 \n",
      "dtypes: int64(1), object(2)\n",
      "memory usage: 492.0+ bytes\n",
      "None\n",
      "\n",
      "Menu Data Info:\n",
      "<class 'pandas.core.frame.DataFrame'>\n",
      "RangeIndex: 3 entries, 0 to 2\n",
      "Data columns (total 3 columns):\n",
      " #   Column        Non-Null Count  Dtype \n",
      "---  ------        --------------  ----- \n",
      " 0   product_id    3 non-null      int64 \n",
      " 1   product_name  3 non-null      object\n",
      " 2   price         3 non-null      int64 \n",
      "dtypes: int64(2), object(1)\n",
      "memory usage: 204.0+ bytes\n",
      "None\n",
      "\n",
      "Members Data Info:\n",
      "<class 'pandas.core.frame.DataFrame'>\n",
      "RangeIndex: 2 entries, 0 to 1\n",
      "Data columns (total 2 columns):\n",
      " #   Column       Non-Null Count  Dtype \n",
      "---  ------       --------------  ----- \n",
      " 0   customer_id  2 non-null      object\n",
      " 1   join_date    2 non-null      object\n",
      "dtypes: object(2)\n",
      "memory usage: 164.0+ bytes\n",
      "None\n"
     ]
    }
   ],
   "source": [
    "print(\"Sales Data Info:\")\n",
    "print(sales_df.info())\n",
    "\n",
    "print(\"\\nMenu Data Info:\")\n",
    "print(menu_df.info())\n",
    "\n",
    "print(\"\\nMembers Data Info:\")\n",
    "print(members_df.info())"
   ]
  },
  {
   "cell_type": "code",
   "execution_count": 3,
   "id": "cdb99a93",
   "metadata": {},
   "outputs": [
    {
     "name": "stdout",
     "output_type": "stream",
     "text": [
      "Sales Data Types:\n",
      "customer_id    object\n",
      "order_date     object\n",
      "product_id      int64\n",
      "dtype: object\n",
      "\n",
      "Menu Data Types:\n",
      "product_id       int64\n",
      "product_name    object\n",
      "price            int64\n",
      "dtype: object\n",
      "\n",
      "Members Data Types:\n",
      "customer_id    object\n",
      "join_date      object\n",
      "dtype: object\n"
     ]
    }
   ],
   "source": [
    "print(\"Sales Data Types:\")\n",
    "print(sales_df.dtypes)\n",
    "\n",
    "print(\"\\nMenu Data Types:\")\n",
    "print(menu_df.dtypes)\n",
    "\n",
    "print(\"\\nMembers Data Types:\")\n",
    "print(members_df.dtypes)"
   ]
  },
  {
   "cell_type": "code",
   "execution_count": 4,
   "id": "56b5e64c",
   "metadata": {},
   "outputs": [],
   "source": [
    "sales_df['order_date'] = pd.to_datetime(sales_df['order_date'])\n",
    "members_df['join_date'] = pd.to_datetime(members_df['join_date'])"
   ]
  },
  {
   "cell_type": "code",
   "execution_count": 5,
   "id": "08e947dc",
   "metadata": {},
   "outputs": [],
   "source": [
    "merged_df = pd.merge(sales_df, menu_df, on='product_id', how='left')\n",
    "\n",
    "merged_df = pd.merge(merged_df, members_df, on='customer_id', how='left')"
   ]
  },
  {
   "cell_type": "code",
   "execution_count": 6,
   "id": "6d15f657",
   "metadata": {},
   "outputs": [
    {
     "name": "stdout",
     "output_type": "stream",
     "text": [
      "Total Amount Spent by Each Customer:\n",
      "customer_id\n",
      "A    76\n",
      "B    74\n",
      "C    36\n",
      "Name: price, dtype: int64\n"
     ]
    }
   ],
   "source": [
    "total_spent_by_customer = merged_df.groupby('customer_id')['price'].sum()\n",
    "print(\"Total Amount Spent by Each Customer:\")\n",
    "print(total_spent_by_customer)"
   ]
  },
  {
   "cell_type": "code",
   "execution_count": 7,
   "id": "a80df81a",
   "metadata": {},
   "outputs": [
    {
     "name": "stdout",
     "output_type": "stream",
     "text": [
      "\n",
      "Number of Days Each Customer Visited the Restaurant:\n",
      "customer_id\n",
      "A    4\n",
      "B    6\n",
      "C    2\n",
      "Name: order_date, dtype: int64\n"
     ]
    }
   ],
   "source": [
    "days_visited_by_customer = merged_df.groupby('customer_id')['order_date'].nunique()\n",
    "print(\"\\nNumber of Days Each Customer Visited the Restaurant:\")\n",
    "print(days_visited_by_customer)"
   ]
  },
  {
   "cell_type": "code",
   "execution_count": 8,
   "id": "084ae475",
   "metadata": {},
   "outputs": [
    {
     "name": "stdout",
     "output_type": "stream",
     "text": [
      "\n",
      "First Item Purchased by Each Customer:\n",
      "customer_id\n",
      "A    sushi\n",
      "B    curry\n",
      "C    ramen\n",
      "Name: product_name, dtype: object\n"
     ]
    }
   ],
   "source": [
    "first_item_purchased_by_customer = merged_df.groupby('customer_id')['product_name'].first()\n",
    "print(\"\\nFirst Item Purchased by Each Customer:\")\n",
    "print(first_item_purchased_by_customer)"
   ]
  },
  {
   "cell_type": "code",
   "execution_count": 9,
   "id": "af6ca893",
   "metadata": {},
   "outputs": [
    {
     "name": "stdout",
     "output_type": "stream",
     "text": [
      "\n",
      "Most Purchased Item on the Menu:\n",
      "Product Name: ramen\n",
      "Count: 8\n"
     ]
    }
   ],
   "source": [
    "most_purchased_item = merged_df['product_name'].value_counts().idxmax()\n",
    "count_most_purchased_item = merged_df['product_name'].value_counts().max()\n",
    "print(\"\\nMost Purchased Item on the Menu:\")\n",
    "print(\"Product Name:\", most_purchased_item)\n",
    "print(\"Count:\", count_most_purchased_item)"
   ]
  },
  {
   "cell_type": "code",
   "execution_count": 10,
   "id": "55ca487c",
   "metadata": {},
   "outputs": [
    {
     "name": "stdout",
     "output_type": "stream",
     "text": [
      "\n",
      "Most Popular Item for Each Customer:\n",
      "customer_id\n",
      "A    (A, ramen)\n",
      "B    (B, curry)\n",
      "C    (C, ramen)\n",
      "Name: count, dtype: object\n"
     ]
    }
   ],
   "source": [
    "most_popular_item_by_customer = (merged_df.groupby('customer_id')['product_name'].value_counts()\n",
    "                                 .groupby('customer_id').idxmax())\n",
    "print(\"\\nMost Popular Item for Each Customer:\")\n",
    "print(most_popular_item_by_customer)"
   ]
  },
  {
   "cell_type": "code",
   "execution_count": 11,
   "id": "1c8c7539",
   "metadata": {},
   "outputs": [
    {
     "name": "stdout",
     "output_type": "stream",
     "text": [
      "\n",
      "Item Purchased First After Joining for Each Customer:\n",
      "customer_id\n",
      "A    curry\n",
      "B    sushi\n",
      "Name: product_name, dtype: object\n"
     ]
    }
   ],
   "source": [
    "first_purchase_after_join = (merged_df[merged_df['order_date'] >= merged_df['join_date']]\n",
    "                             .groupby('customer_id')['product_name'].first())\n",
    "print(\"\\nItem Purchased First After Joining for Each Customer:\")\n",
    "print(first_purchase_after_join)"
   ]
  },
  {
   "cell_type": "code",
   "execution_count": 12,
   "id": "e13a47ba",
   "metadata": {},
   "outputs": [
    {
     "name": "stdout",
     "output_type": "stream",
     "text": [
      "\n",
      "Item Purchased Just Before Customer Became a Member:\n",
      "customer_id\n",
      "A    curry\n",
      "B    sushi\n",
      "Name: product_name, dtype: object\n"
     ]
    }
   ],
   "source": [
    "last_purchase_before_join = (merged_df[merged_df['order_date'] < merged_df['join_date']]\n",
    "                             .groupby('customer_id')['product_name'].last())\n",
    "print(\"\\nItem Purchased Just Before Customer Became a Member:\")\n",
    "print(last_purchase_before_join)"
   ]
  },
  {
   "cell_type": "code",
   "execution_count": 13,
   "id": "5a927007",
   "metadata": {},
   "outputs": [
    {
     "name": "stdout",
     "output_type": "stream",
     "text": [
      "\n",
      "Total Items and Amount Spent for Each Member Before Joining:\n",
      "             product_name  price\n",
      "customer_id                     \n",
      "A                       2     25\n",
      "B                       3     40\n"
     ]
    }
   ],
   "source": [
    "total_items_amount_before_join = (merged_df[merged_df['order_date'] < merged_df['join_date']]\n",
    "                                  .groupby('customer_id').agg({'product_name': 'count', 'price': 'sum'}))\n",
    "print(\"\\nTotal Items and Amount Spent for Each Member Before Joining:\")\n",
    "print(total_items_amount_before_join)"
   ]
  },
  {
   "cell_type": "code",
   "execution_count": 14,
   "id": "9f3273ce",
   "metadata": {},
   "outputs": [
    {
     "name": "stdout",
     "output_type": "stream",
     "text": [
      "\n",
      "Total Points for Each Customer:\n",
      "customer_id\n",
      "A    860\n",
      "B    940\n",
      "C    360\n",
      "Name: points, dtype: int64\n"
     ]
    }
   ],
   "source": [
    "merged_df['points'] = merged_df['price'] * 10\n",
    "merged_df.loc[merged_df['product_name'] == 'sushi', 'points'] *= 2\n",
    "\n",
    "total_points_by_customer = merged_df.groupby('customer_id')['points'].sum()\n",
    "print(\"\\nTotal Points for Each Customer:\")\n",
    "print(total_points_by_customer)"
   ]
  },
  {
   "cell_type": "code",
   "execution_count": 15,
   "id": "1d7ad405",
   "metadata": {},
   "outputs": [
    {
     "name": "stdout",
     "output_type": "stream",
     "text": [
      "\n",
      "Points for Customer A in the First Week After Joining: 510\n",
      "Points for Customer B in the First Week After Joining: 200\n"
     ]
    }
   ],
   "source": [
    "joined_first_week_points = merged_df[(merged_df['order_date'] >= merged_df['join_date']) &\n",
    "                                     (merged_df['order_date'] <= merged_df['join_date'] +\n",
    "                                      pd.Timedelta(days=6))]['points']\n",
    "total_points_customer_A = joined_first_week_points[merged_df['customer_id'] == 'A'].sum()\n",
    "total_points_customer_B = joined_first_week_points[merged_df['customer_id'] == 'B'].sum()\n",
    "\n",
    "print(\"\\nPoints for Customer A in the First Week After Joining:\", total_points_customer_A)\n",
    "print(\"Points for Customer B in the First Week After Joining:\", total_points_customer_B)"
   ]
  }
 ],
 "metadata": {
  "kernelspec": {
   "display_name": "Python 3 (ipykernel)",
   "language": "python",
   "name": "python3"
  },
  "language_info": {
   "codemirror_mode": {
    "name": "ipython",
    "version": 3
   },
   "file_extension": ".py",
   "mimetype": "text/x-python",
   "name": "python",
   "nbconvert_exporter": "python",
   "pygments_lexer": "ipython3",
   "version": "3.11.5"
  }
 },
 "nbformat": 4,
 "nbformat_minor": 5
}

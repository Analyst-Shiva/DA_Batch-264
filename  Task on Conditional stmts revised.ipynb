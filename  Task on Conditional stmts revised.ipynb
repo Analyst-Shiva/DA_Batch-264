{
 "cells": [
  {
   "cell_type": "code",
   "execution_count": 8,
   "id": "3422901f",
   "metadata": {},
   "outputs": [
    {
     "name": "stdout",
     "output_type": "stream",
     "text": [
      "enter your age: 12\n",
      "You are a minor\n"
     ]
    }
   ],
   "source": [
    "# using age telling person is minor or not\n",
    "age = int(input(\"enter your age: \")) # getting age from user\n",
    "\n",
    "if age >= 18: # if age is above 18 or 18\n",
    "    print(\"You are an adult\") # you are adult will be printed otherwise go ot else\n",
    "else: # if age is below 18\n",
    "    print(\"You are a minor\") # you are minor will be printed"
   ]
  },
  {
   "cell_type": "code",
   "execution_count": 25,
   "id": "feb25817",
   "metadata": {},
   "outputs": [
    {
     "name": "stdout",
     "output_type": "stream",
     "text": [
      "Enter your numerical grade (out of 100): 65\n",
      "D\n"
     ]
    }
   ],
   "source": [
    "# giving grades for student marks\n",
    "numerical_grade = int(input(\"Enter your numerical grade (out of 100): \")) # getting grade from user\n",
    "\n",
    "if numerical_grade >= 90: # if grade is between 90 and 100\n",
    "    print('A') # A will be printed\n",
    "elif numerical_grade >= 80: # if age is between 80 and 90\n",
    "    print('B') # B will be printed\n",
    "elif numerical_grade >= 70: # if age is between 70 and 80\n",
    "    print('C') # C will be printed\n",
    "elif numerical_grade >= 60: # if age is between 60 and 70\n",
    "    print('D') # D will be printed\n",
    "else: # if age is between 0 and 60\n",
    "    print('E') # E will be printed"
   ]
  },
  {
   "cell_type": "code",
   "execution_count": 6,
   "id": "d52887b9",
   "metadata": {},
   "outputs": [
    {
     "name": "stdout",
     "output_type": "stream",
     "text": [
      "Enter your weight in kilograms: 70\n",
      "Enter your height in meters: 1.7\n",
      "normal weight\n"
     ]
    }
   ],
   "source": [
    "# calculating BMI\n",
    "kg = int(input(\"Enter your weight in kg: \")) # getting weight in kg from user\n",
    "m = float(input(\"Enter your height in mts: \")) # getting height in m from user\n",
    "\n",
    "bmi = kg / (m ** 2) # this is Body mass index formula from maths\n",
    "\n",
    "if bmi < 20: # if after calculating bmi the value is below 20\n",
    "    print(\"underweight\") # under weight is printed\n",
    "elif 20 <= bmi < 25: #  if bmi is between 20 and 25\n",
    "    print(\"normal weight\") # normal weight is printed\n",
    "elif 25 <= bmi < 30: #  if bmi is between 20 and 25\n",
    "    print(\"overweight\") # over weight is printed\n",
    "else: #  if bmi is above 30\n",
    "    print(\"obese\")"
   ]
  },
  {
   "cell_type": "code",
   "execution_count": 10,
   "id": "bedf5092",
   "metadata": {},
   "outputs": [
    {
     "name": "stdout",
     "output_type": "stream",
     "text": [
      "Enter the first number: 22\n",
      "Enter the second number: 27\n",
      "Enter the third number: 29\n",
      "29\n"
     ]
    }
   ],
   "source": [
    "#  getting Max of three numbers\n",
    "num1 = int(input(\"Enter the first number: \")) # getting any number from user as 1st number\n",
    "num2 = int(input(\"Enter the second number: \")) # getting any number from user as 2nd number\n",
    "num3 = int(input(\"Enter the third number: \")) # getting any number from user as 3rd number\n",
    "\n",
    "maximum = max(num1, num2, num3) # this is max formula for 3 numbers checking which number is max the above given 3 numbers will be taken as input and results which one is max\n",
    "\n",
    "print(maximum) # here printing the max of given 3 numbers"
   ]
  },
  {
   "cell_type": "code",
   "execution_count": 14,
   "id": "d45a449d",
   "metadata": {},
   "outputs": [
    {
     "name": "stdout",
     "output_type": "stream",
     "text": [
      "Enter the temperature in Celsius: 20\n",
      "It's warm\n"
     ]
    }
   ],
   "source": [
    "#  finding temperature in Celsius\n",
    "temperature = float(input(\"Enter the temperature in Celsius: \")) # geting temperature value here in float bcs temp will be some time in decimals\n",
    "\n",
    "if temperature < 0: # if temp value is below 0\n",
    "    print(\"It's freezing\") #  its freezing is getting printed\n",
    "elif 0 <= temperature <= 10: # if temp value is between 0 and 10\n",
    "    print(\"It's cool\") #  its cool is getting printed\n",
    "elif 10 < temperature <= 20:# if temp value is between 10 and 20\n",
    "    print(\"It's warm\") #  its warm is getting printed\n",
    "else:# if temp value is above 20\n",
    "    print(\"It's hot\") #  its hot is getting printed"
   ]
  },
  {
   "cell_type": "code",
   "execution_count": 15,
   "id": "1efad9eb",
   "metadata": {},
   "outputs": [
    {
     "name": "stdout",
     "output_type": "stream",
     "text": [
      "Enter a number: 15\n",
      "In range\n"
     ]
    }
   ],
   "source": [
    "# getting number is out of range\n",
    "number = int(input(\"Enter a number: \")) # getting input of number from uer\n",
    "\n",
    "if 10 <= number <= 20: # if num value is between 10 and 20\n",
    "    print(\"In range\") # in range is getting printed\n",
    "else: # if num value is not between 10 and 20\n",
    "    print(\"Out of range\") # out of range is getting printed"
   ]
  },
  {
   "cell_type": "code",
   "execution_count": 18,
   "id": "cc3feb37",
   "metadata": {},
   "outputs": [
    {
     "name": "stdout",
     "output_type": "stream",
     "text": [
      "Enter an integer: 15\n",
      "number is odd\n"
     ]
    }
   ],
   "source": [
    "#  given number odd or even\n",
    "number = int(input(\"Enter an integer: \")) # getting number from user\n",
    "\n",
    "if number % 2 == 0: # if number is divisible by 2\n",
    "    print(\"number is even\") # printing number is even\n",
    "else: # if not divisible\n",
    "    print(\"number is odd\") # printing number is odd"
   ]
  },
  {
   "cell_type": "code",
   "execution_count": 20,
   "id": "f70176db",
   "metadata": {},
   "outputs": [
    {
     "name": "stdout",
     "output_type": "stream",
     "text": [
      "Player 1:rock\n",
      "Player 2:paper\n",
      "Player 2 wins\n"
     ]
    }
   ],
   "source": [
    "# rock paper scissor\n",
    "player1 = input('Player 1:') # getting string from palyer1 one as rock paper or scissor\n",
    "player2 = input('Player 2:') # getting string from palyer 2 one as rock paper or scissor\n",
    "\n",
    "if player1 == player2:# if player1 and 2 are getting bot same\n",
    "    print(\"It's a tie!\") # printing the match is tie\n",
    "elif player1 == \"rock\": # otherwise if palyer1 is getting rock \n",
    "    if player2 == \"scissors\": # and player 2 is getting scissor\n",
    "        print(\"Player 1 wins\") # printing player1 one is win bcz rock can break scissor\n",
    "    else: # if elif stmt is wrong it shold give player 2 wins\n",
    "        print(\"Player 2 wins\") # printing player 2 wins\n",
    "elif player1 == \"paper\": # otherwise if palyer1 is getting paper\n",
    "    if player2 == \"rock\": # and player 2 is getting rock\n",
    "        print(\"Player 1 wins\") # printing player1 one is win bcz paper can fold rock\n",
    "    else: # if 2nd elif stmt is wrong it shold give player 2 wins\n",
    "        print(\"Player 2 wins\") # printing player 2 wins\n",
    "elif player1 == \"scissors\": # otherwise if palyer1 is getting scissor\n",
    "    if player2 == \"paper\": # and player 2 is getting paper\n",
    "        print(\"Player 1 wins\") # printing player1 one is win bcz scissor can cut paper\n",
    "    else: # if 3rd elif stmt is wrong it shold give player 2 wins\n",
    "        print(\"Player 2 wins\") # printing player 2 wins"
   ]
  },
  {
   "cell_type": "code",
   "execution_count": 23,
   "id": "6d23b789",
   "metadata": {},
   "outputs": [
    {
     "name": "stdout",
     "output_type": "stream",
     "text": [
      "Enter a word: paint\n",
      "word is not plural.\n"
     ]
    }
   ],
   "source": [
    "# Plural or not\n",
    "word = input(\"Enter a word: \") # getting any single word from user ass input\n",
    "\n",
    "if word.endswith('s'): # if the given word is ending with s like paints or scissors\n",
    "    print(\"word is plural.\") # printing word is plural\n",
    "else: # if the given word is not ending with s like paint or scissor\n",
    "    print(\"word is not plural.\")"
   ]
  }
 ],
 "metadata": {
  "kernelspec": {
   "display_name": "Python 3 (ipykernel)",
   "language": "python",
   "name": "python3"
  },
  "language_info": {
   "codemirror_mode": {
    "name": "ipython",
    "version": 3
   },
   "file_extension": ".py",
   "mimetype": "text/x-python",
   "name": "python",
   "nbconvert_exporter": "python",
   "pygments_lexer": "ipython3",
   "version": "3.11.5"
  }
 },
 "nbformat": 4,
 "nbformat_minor": 5
}

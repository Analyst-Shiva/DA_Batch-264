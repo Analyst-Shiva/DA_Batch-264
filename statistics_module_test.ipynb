{
 "cells": [
  {
   "cell_type": "code",
   "execution_count": 2,
   "id": "bd52f4eb",
   "metadata": {},
   "outputs": [
    {
     "name": "stdout",
     "output_type": "stream",
     "text": [
      "Arithmetic Mean: 5.843333333333335\n",
      "Geometric Mean: 5.785720390427729\n",
      "Harmonic Mean: 5.728905057850834\n",
      "Mode: [5.0]\n",
      "Median: 5.8\n",
      "Describe: {'count': 150, 'mean': 5.843333333333335, 'std': 0.8253012917851409, 'min': 4.3, '25%': 5.1, '50%': 5.8, '75%': 6.4, 'max': 7.9}\n",
      "Variance: 0.6811222222222222\n",
      "Standard Deviation: 0.8253012917851409\n",
      "Max Value: 7.9\n",
      "Min Value: 4.3\n",
      "Range: 3.6000000000000005\n",
      "IQR: 1.3000000000000007\n",
      "Quartiles: (5.1, 5.8, 6.4)\n",
      "Coefficient of Range: 0.2950819672131148\n",
      "Coefficient of Variation: 14.12380989934639\n",
      "Coefficient of Standard Deviation: 0.1412380989934639\n",
      "Coefficient of Quartile Deviation: 22.413793103448292\n",
      "Coefficient of Mean Deviation: 0.11766495531469869\n"
     ]
    }
   ],
   "source": [
    "import statistics_module, pandas as pd\n",
    "\n",
    "from statistics_module import Custom_Statistics\n",
    "\n",
    "iris_df = pd.read_csv(r\"C:\\Users\\shiva\\Desktop\\Python 19102023\\Iris.csv\")\n",
    "\n",
    "column_to_analyze = 'SepalLengthCm' \n",
    "\n",
    "iris_data = iris_df[column_to_analyze]\n",
    "\n",
    "iris_statistics = Custom_Statistics(iris_data)\n",
    "\n",
    "# Example usage\n",
    "print(\"Arithmetic Mean:\", iris_statistics.ct_arithmetic_mean())\n",
    "print(\"Geometric Mean:\", iris_statistics.ct_geometric_mean())\n",
    "print(\"Harmonic Mean:\", iris_statistics.ct_harmonic_mean())\n",
    "print(\"Mode:\", iris_statistics.ct_mode())\n",
    "print(\"Median:\", iris_statistics.ct_median())\n",
    "print(\"Describe:\", iris_statistics.ct_describe())\n",
    "print(\"Variance:\", iris_statistics.ct_variance())\n",
    "print(\"Standard Deviation:\", iris_statistics.ct_standard_deviation())\n",
    "print(\"Max Value:\", iris_statistics.ct_max_value())\n",
    "print(\"Min Value:\", iris_statistics.ct_min_value())\n",
    "print(\"Range:\", iris_statistics.ct_range())\n",
    "print(\"IQR:\", iris_statistics.ct_iqr())\n",
    "print(\"Quartiles:\", iris_statistics.ct_quartiles())\n",
    "print(\"Coefficient of Range:\", iris_statistics.ct_coefficient_of_range())\n",
    "print(\"Coefficient of Variation:\", iris_statistics.ct_coefficient_of_variation())\n",
    "print(\"Coefficient of Standard Deviation:\", iris_statistics.ct_coefficient_of_standard_deviation())\n",
    "print(\"Coefficient of Quartile Deviation:\", iris_statistics.ct_coefficient_of_quartile_deviation())\n",
    "print(\"Coefficient of Mean Deviation:\", iris_statistics.ct_coefficient_of_mean_deviation())"
   ]
  }
 ],
 "metadata": {
  "kernelspec": {
   "display_name": "Python 3 (ipykernel)",
   "language": "python",
   "name": "python3"
  },
  "language_info": {
   "codemirror_mode": {
    "name": "ipython",
    "version": 3
   },
   "file_extension": ".py",
   "mimetype": "text/x-python",
   "name": "python",
   "nbconvert_exporter": "python",
   "pygments_lexer": "ipython3",
   "version": "3.11.5"
  }
 },
 "nbformat": 4,
 "nbformat_minor": 5
}

{
 "cells": [
  {
   "cell_type": "code",
   "execution_count": 1,
   "id": "6511f1ec",
   "metadata": {},
   "outputs": [
    {
     "data": {
      "text/plain": [
       "['abc123',\n",
       " 'myUsername210',\n",
       " '123feralHog',\n",
       " 'Panda5',\n",
       " '1',\n",
       " 'abc1',\n",
       " '0shie',\n",
       " 'p0shy']"
      ]
     },
     "execution_count": 1,
     "metadata": {},
     "output_type": "execute_result"
    }
   ],
   "source": [
    "import re\n",
    "\n",
    "with open('names.txt', 'r') as file:\n",
    "    usernames = file.read()\n",
    "\n",
    "numeric_usernames = re.findall(r'\\w*\\d\\w*', usernames)\n",
    "numeric_usernames"
   ]
  },
  {
   "cell_type": "code",
   "execution_count": 2,
   "id": "05ca7ec7",
   "metadata": {},
   "outputs": [
    {
     "data": {
      "text/plain": [
       "['Fang', 'asdf', 'Hank', 'DIRT', 'star', 'Posh']"
      ]
     },
     "execution_count": 2,
     "metadata": {},
     "output_type": "execute_result"
    }
   ],
   "source": [
    "alphabetic_usernames = re.findall(r'\\b[a-zA-Z]{4}\\b', usernames)\n",
    "alphabetic_usernames"
   ]
  },
  {
   "cell_type": "code",
   "execution_count": 3,
   "id": "06299010",
   "metadata": {},
   "outputs": [
    {
     "data": {
      "text/plain": [
       "['Hank Lazowska']"
      ]
     },
     "execution_count": 3,
     "metadata": {},
     "output_type": "execute_result"
    }
   ],
   "source": [
    "names = re.findall(r'\\b[A-Z][a-z]+ [A-Z][a-z]+\\b', usernames)\n",
    "names"
   ]
  },
  {
   "cell_type": "code",
   "execution_count": 4,
   "id": "b331fe2f",
   "metadata": {},
   "outputs": [
    {
     "data": {
      "text/plain": [
       "['jle@uw.edu',\n",
       " 'hissingDonkey567@yahoo.com',\n",
       " '342highground@council.com',\n",
       " 'perkins8@uw.com',\n",
       " 'fungfangfaang@agar.io',\n",
       " 'joshmyrealemail@imake.tools']"
      ]
     },
     "execution_count": 4,
     "metadata": {},
     "output_type": "execute_result"
    }
   ],
   "source": [
    "with open('emails.txt', 'r') as file:\n",
    "    emails = file.read()\n",
    "\n",
    "valid_emails = re.findall(r'\\b\\w{1,16}@[a-z]+\\.[a-z]{2,}\\b', emails)\n",
    "valid_emails"
   ]
  },
  {
   "cell_type": "code",
   "execution_count": 5,
   "id": "8c119e20",
   "metadata": {},
   "outputs": [
    {
     "data": {
      "text/plain": [
       "['Apples42', 'orangE17', '1cupCake']"
      ]
     },
     "execution_count": 5,
     "metadata": {},
     "output_type": "execute_result"
    }
   ],
   "source": [
    "with open('passwords.txt', 'r') as file:\n",
    "    passwords = file.read()\n",
    "\n",
    "valid_passwords = re.findall(r'(?=.*[a-z])(?=.*[A-Z])(?=.*\\d).{8,}', passwords)\n",
    "valid_passwords"
   ]
  },
  {
   "cell_type": "code",
   "execution_count": 6,
   "id": "ba2503d5",
   "metadata": {},
   "outputs": [
    {
     "data": {
      "text/plain": [
       "[('5123 4567 8910 1112', '5123 4567 8910 1112', ''),\n",
       " ('4789 2784 8910 8290', '', '4789 2784 8910 8290'),\n",
       " ('4989 9321 1230', '', '4989 9321 1230'),\n",
       " ('4740 1839 1281\\n4789', '', '4740 1839 1281\\n4789'),\n",
       " ('4182 2884 1232 9582', '', '4182 2884 1232 9582')]"
      ]
     },
     "execution_count": 6,
     "metadata": {},
     "output_type": "execute_result"
    }
   ],
   "source": [
    "with open('cards.txt', 'r') as file:\n",
    "    credit_cards = file.read()\n",
    "\n",
    "valid_credit_cards = re.findall(r'((5\\d{3}(?:\\s\\d{4}){3})|(4\\d{3}(?:\\s\\d{4}){2,3}))', credit_cards)\n",
    "valid_credit_cards"
   ]
  },
  {
   "cell_type": "code",
   "execution_count": 7,
   "id": "56814863",
   "metadata": {},
   "outputs": [
    {
     "data": {
      "text/plain": [
       "['ATGCCACTATGGTAG',\n",
       " 'ATGCGACCCTAGTAG',\n",
       " 'ATGCGACCCTAGTAGGG',\n",
       " 'ATGACCGACTCAGTATAA',\n",
       " 'ATGATCGACTACGATTAG',\n",
       " 'ATGATTGGGCCCGCTTAGTAGTGA',\n",
       " 'ATGACCGACTCAGTAAAT',\n",
       " 'ATGACCGACTAG',\n",
       " 'AGGATTGGGCCCGCTTAGTAGTGA',\n",
       " 'CATCATCATCATCATCATCATCATCATCAT',\n",
       " 'ACTTCA',\n",
       " 'TAGACGTACCTTAG']"
      ]
     },
     "execution_count": 7,
     "metadata": {},
     "output_type": "execute_result"
    }
   ],
   "source": [
    "with open('dna.txt', 'r') as file:\n",
    "    dna_data = file.read()\n",
    "\n",
    "dna_sequences = re.findall(r'\\b[A|C|G|T]+\\b', dna_data)\n",
    "dna_sequences"
   ]
  },
  {
   "cell_type": "code",
   "execution_count": 8,
   "id": "fd23ca24",
   "metadata": {},
   "outputs": [
    {
     "data": {
      "text/plain": [
       "['ATGCCACTATGGTAG',\n",
       " 'ATgCCAACATGgATGCCcGATAtGGATTgA',\n",
       " 'ATGCGACCCTAGTAG',\n",
       " 'ATGCGACCCTAGTAGGG',\n",
       " 'ATGACCGACTCAGTATAA',\n",
       " 'ATGATCGACTACGATTAG',\n",
       " 'ATGATTGGGCCCGCTTAGTAGTGA',\n",
       " 'ATGACCGACTCAGTAAAT',\n",
       " 'ATGACCGACTAG',\n",
       " 'AGGATTGGGCCCGCTTAGTAGTGA',\n",
       " 'CATCATCATCATCATCATCATCATCATCAT',\n",
       " 'ACTTCA',\n",
       " 'TAGACGTACCTTAG']"
      ]
     },
     "execution_count": 8,
     "metadata": {},
     "output_type": "execute_result"
    }
   ],
   "source": [
    "dna_names = re.findall(r'^[a-zA-Z0-9]+$', dna_data, re.MULTILINE)\n",
    "dna_names"
   ]
  }
 ],
 "metadata": {
  "kernelspec": {
   "display_name": "Python 3 (ipykernel)",
   "language": "python",
   "name": "python3"
  },
  "language_info": {
   "codemirror_mode": {
    "name": "ipython",
    "version": 3
   },
   "file_extension": ".py",
   "mimetype": "text/x-python",
   "name": "python",
   "nbconvert_exporter": "python",
   "pygments_lexer": "ipython3",
   "version": "3.11.5"
  }
 },
 "nbformat": 4,
 "nbformat_minor": 5
}

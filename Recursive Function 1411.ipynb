{
 "cells": [
  {
   "cell_type": "markdown",
   "id": "82065494",
   "metadata": {},
   "source": [
    "# Recursive Function : Recursive functions are functions that calls itself. It is always made up of 2 portions, the base case and the recursive case.\n",
    "\n",
    "The base case is the condition to stop the recursion. The recursive case is the part where the function calls on itself."
   ]
  },
  {
   "cell_type": "code",
   "execution_count": 1,
   "id": "8da2e0d3",
   "metadata": {},
   "outputs": [
    {
     "data": {
      "text/plain": [
       "120"
      ]
     },
     "execution_count": 1,
     "metadata": {},
     "output_type": "execute_result"
    }
   ],
   "source": [
    "def fooFact(n):\n",
    "    r=1\n",
    "    for i in range(1,n+1):\n",
    "        r*=i\n",
    "    return r\n",
    "fooFact(5)"
   ]
  },
  {
   "cell_type": "code",
   "execution_count": 2,
   "id": "52e54483",
   "metadata": {},
   "outputs": [
    {
     "data": {
      "text/plain": [
       "120"
      ]
     },
     "execution_count": 2,
     "metadata": {},
     "output_type": "execute_result"
    }
   ],
   "source": [
    "def fooRecFact(n):\n",
    "    if n==1:\n",
    "        return 1\n",
    "    else:\n",
    "        return n*fooRecFact(n-1)\n",
    "fooRecFact(5)"
   ]
  },
  {
   "cell_type": "markdown",
   "id": "a036e913",
   "metadata": {},
   "source": [
    "# STACK MEMORY :The stack is a region of memory used for storing local variables and function call information. It operates on a Last-In-First-Out (LIFO) basis, where the most recently added item is the first to be removed.\n",
    "\n",
    "fibnocii series : 1,1,2,3,5,8,13......."
   ]
  },
  {
   "cell_type": "code",
   "execution_count": 3,
   "id": "23815d57",
   "metadata": {},
   "outputs": [
    {
     "data": {
      "text/plain": [
       "5"
      ]
     },
     "execution_count": 3,
     "metadata": {},
     "output_type": "execute_result"
    }
   ],
   "source": [
    "def fooFib(n):\n",
    "        if n<=1:\n",
    "            return n\n",
    "        else:\n",
    "            return fooFib(n-1)+fooFib(n-2)\n",
    "fooFib(5)"
   ]
  },
  {
   "cell_type": "code",
   "execution_count": null,
   "id": "0eabda2e",
   "metadata": {},
   "outputs": [],
   "source": [
    "for i in range(5):\n",
    "    print(fooFib(i), end = ', ')"
   ]
  },
  {
   "cell_type": "code",
   "execution_count": 4,
   "id": "dd581f25",
   "metadata": {},
   "outputs": [
    {
     "data": {
      "text/plain": [
       "8"
      ]
     },
     "execution_count": 4,
     "metadata": {},
     "output_type": "execute_result"
    }
   ],
   "source": [
    "def foorecfib(n):\n",
    "    if n==0:\n",
    "        return 0\n",
    "    elif n==1:\n",
    "        return 1\n",
    "    else:\n",
    "        return foorecfib(n-1)+foorecfib(n-2)\n",
    "foorecfib(6)"
   ]
  },
  {
   "cell_type": "code",
   "execution_count": null,
   "id": "551df580",
   "metadata": {},
   "outputs": [],
   "source": [
    "for i in range(5):\n",
    "    print(foorecfib(i),end=', ')"
   ]
  },
  {
   "cell_type": "markdown",
   "id": "c5ac3ef3",
   "metadata": {},
   "source": [
    "# There are two special symbols:\n",
    "\n",
    "Special Symbols Used for passing arguments in Python:\n",
    "\n",
    "*args (Non-Keyword Arguments)\n",
    "**kwargs (Keyword Arguments)\n",
    "Note: “We use the “wildcard” or “*” notation like this – *args OR **kwargs – as our function’s argument when we have doubts about the number of  arguments we should pass in a function.”"
   ]
  },
  {
   "cell_type": "markdown",
   "id": "cd220c82",
   "metadata": {},
   "source": [
    "# Python *args :\n",
    "\n",
    "The special syntax *args in function definitions in Python is used to pass a variable number of arguments to a function. It is used to pass a non-keyworded, variable-length argument list.\n",
    "\n",
    "The syntax is to use the symbol * to take in a variable number of arguments; by convention, it is often used with the word args.\n",
    "\n",
    "What args allows you to do is take in more arguments than the number of formal arguments that you previously defined. With args, any number of extra arguments can be tacked on to your current formal parameters (including zero extra arguments).\n",
    "\n",
    "For example, we want to make a multiply function that takes any number of arguments and is able to multiply them all together. It can be done using *args.\n",
    "\n",
    "Using the , the variable that we associate with the becomes iterable meaning you can do things like iterate over it, run some higher-order functions such as map and filter, etc."
   ]
  },
  {
   "cell_type": "markdown",
   "id": "1ccb7070",
   "metadata": {},
   "source": [
    "# Python **kwargs :\n",
    "The special syntax **kwargs in function definitions in Python is used to pass a keyworded, variable-length argument list. We use the name kwargs with the double star. The reason is that the double star allows us to pass through keyword arguments (and any number of them).\n",
    "\n",
    "A keyword argument is where you provide a name to the variable as you pass it into the function.\n",
    "\n",
    "One can think of the kwargs as being a dictionary that maps each keyword to the value that we pass alongside it. That is why when we iterate over the kwargs there doesn’t seem to be any order in which they were printed out."
   ]
  },
  {
   "cell_type": "code",
   "execution_count": 5,
   "id": "c2d69bb0",
   "metadata": {},
   "outputs": [
    {
     "data": {
      "text/plain": [
       "21"
      ]
     },
     "execution_count": 5,
     "metadata": {},
     "output_type": "execute_result"
    }
   ],
   "source": [
    "def foo(a,b,c=0,*args,**kwargs):\n",
    "    r=a+b+c\n",
    "    for arg in args:\n",
    "        r+=arg\n",
    "    return r\n",
    "foo(1,2,3, *(4,5,6))"
   ]
  },
  {
   "cell_type": "code",
   "execution_count": 6,
   "id": "916678c5",
   "metadata": {},
   "outputs": [],
   "source": [
    "def foo(a,b,c=0,*args,**kwargs):\n",
    "    r=a+b+c\n",
    "    for arg in args:\n",
    "        r+=arg\n",
    "        \n",
    "    for kwarg in kwargs:\n",
    "        print(kwargs[kwarg])\n",
    "    return r"
   ]
  },
  {
   "cell_type": "code",
   "execution_count": 8,
   "id": "a8c31056",
   "metadata": {},
   "outputs": [
    {
     "name": "stdout",
     "output_type": "stream",
     "text": [
      "[1, 2, 3]\n"
     ]
    },
    {
     "data": {
      "text/plain": [
       "21"
      ]
     },
     "execution_count": 8,
     "metadata": {},
     "output_type": "execute_result"
    }
   ],
   "source": [
    "foo(1,2,3, *(4,5,6),**{'marks':[1,2,3]})"
   ]
  },
  {
   "cell_type": "code",
   "execution_count": 9,
   "id": "4806f9f3",
   "metadata": {},
   "outputs": [
    {
     "name": "stdout",
     "output_type": "stream",
     "text": [
      "Total marks scored by ram is 50\n",
      "Total marks scored by teena is 60\n",
      "Total marks scored by tinku is 60\n"
     ]
    }
   ],
   "source": [
    "def foostumarks(**kwargs):\n",
    "    for kwarg in kwargs:\n",
    "        print(f'Total marks scored by {kwarg} is {sum(kwargs[kwarg])}')\n",
    "foostumarks(**{'ram':(10,20,20),\n",
    "              'teena':(20,30,10),\n",
    "              'tinku':(10,20,30),}\n",
    "           )"
   ]
  }
 ],
 "metadata": {
  "kernelspec": {
   "display_name": "Python 3 (ipykernel)",
   "language": "python",
   "name": "python3"
  },
  "language_info": {
   "codemirror_mode": {
    "name": "ipython",
    "version": 3
   },
   "file_extension": ".py",
   "mimetype": "text/x-python",
   "name": "python",
   "nbconvert_exporter": "python",
   "pygments_lexer": "ipython3",
   "version": "3.11.5"
  }
 },
 "nbformat": 4,
 "nbformat_minor": 5
}

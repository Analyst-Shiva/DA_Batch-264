{
 "cells": [
  {
   "cell_type": "markdown",
   "id": "38b0ee42",
   "metadata": {},
   "source": [
    "# LC(2220) 51Q. A bit flip of a number x is choosing a bit in the binary representation of x and flipping it from either 0 to 1 or 1 to 0.\n",
    "\n",
    "### For example, for x = 7, the binary representation is 111 and we may choose any bit (including any leading zeros not shown) and flip it. We can flip the first bit from the right to get 110, flip the second bit from the right to get 101, flip the fifth bit from the right (a leading zero) to get 10111, etc.\n",
    "### Given two integers start and goal, return the minimum number of bit flips to convert start to goal.\n",
    "\n",
    "To find the minimum number of bit flips required to convert a start integer to a goal integer, you can use a bit manipulation approach and perform a bitwise XOR operation between the two numbers. The number of set bits (1s) in the XOR result will indicate the bits that differ between the two numbers. Counting these set bits will give you the minimum number of bit flips needed to transform the start integer into the goal integer.\n",
    "\n",
    "You can replace the start and goal variables in the example usage with your desired integers to find the minimum number of bit flips required to convert them.\n",
    " \n",
    "This function min_bit_flips() takes the start and goal integers as arguments and returns the minimum number of bit flips needed to convert the start integer to the goal integer."
   ]
  },
  {
   "cell_type": "code",
   "execution_count": 66,
   "id": "6e2337b7",
   "metadata": {},
   "outputs": [],
   "source": [
    "def min_Bit_Flips_LC2220(start, goal): # arguments:0 <= start, goal <= 10 ** 9\n",
    "        '''\n",
    "        start and goal are parameters that computes the minimum number of bit flips\n",
    "        needed to convert start to goal.\n",
    "        '''\n",
    "        n = start ^ goal # XOR operation to find the differing bits\n",
    "        count = 0 # Count the number of set bits in the XOR result\n",
    "        while n: # initiates a while loop that continues until the n is non-zero (i.e., until all differing bits have been considered).\n",
    "            count += n & 1 # Using bitwise AND with 1 to check the least significant bit\n",
    "            n >>= 1  # Right shift to check the next bit\n",
    "        return count # Returns the total count of bit flips needed to convert the start integer to the goal integer."
   ]
  },
  {
   "cell_type": "code",
   "execution_count": 67,
   "id": "a2444815",
   "metadata": {},
   "outputs": [
    {
     "data": {
      "text/plain": [
       "3"
      ]
     },
     "execution_count": 67,
     "metadata": {},
     "output_type": "execute_result"
    }
   ],
   "source": [
    "min_Bit_Flips_LC2220(start = 10,goal = 7)\n",
    "# Explanation: The binary representation of 10 and 7 are 1010 and 0111 respectively. We can convert 10 to 7 in 3 steps:\n",
    "# - Flip the first bit from the right: 1010 -> 1011.\n",
    "# - Flip the third bit from the right: 1011 -> 1111.\n",
    "# - Flip the fourth bit from the right: 1111 -> 0111.\n",
    "# It can be shown we cannot convert 10 to 7 in less than 3 steps. Hence, we return 3."
   ]
  },
  {
   "cell_type": "code",
   "execution_count": 68,
   "id": "cbcbe1c7",
   "metadata": {},
   "outputs": [
    {
     "data": {
      "text/plain": [
       "3"
      ]
     },
     "execution_count": 68,
     "metadata": {},
     "output_type": "execute_result"
    }
   ],
   "source": [
    "min_Bit_Flips_LC2220(start = 3,goal = 4)\n",
    "# Explanation: The binary representation of 3 and 4 are 011 and 100 respectively. We can convert 3 to 4 in 3 steps:\n",
    "# - Flip the first bit from the right: 011 -> 010.\n",
    "# - Flip the second bit from the right: 010 -> 000.\n",
    "# - Flip the third bit from the right: 000 -> 100.\n",
    "# It can be shown we cannot convert 3 to 4 in less than 3 steps. Hence, we return 3."
   ]
  },
  {
   "cell_type": "code",
   "execution_count": 69,
   "id": "a4943199",
   "metadata": {},
   "outputs": [
    {
     "name": "stdout",
     "output_type": "stream",
     "text": [
      "\n",
      "        start and goal are parameters that computes the minimum number of bit flips\n",
      "        needed to convert start to goal.\n",
      "        \n"
     ]
    }
   ],
   "source": [
    "print(min_Bit_Flips_LC2220.__doc__)"
   ]
  },
  {
   "cell_type": "markdown",
   "id": "67b409f5",
   "metadata": {},
   "source": [
    "# LC(2194) 52Q. A cell (r, c) of an excel sheet is represented as a string \"<col><row>\" where: <col> denotes the column number c of the cell. It is represented by alphabetical letters.\n",
    "    \n",
    "For example, the 1st column is denoted by 'A', the 2nd by 'B', the 3rd by 'C', and so on.\n",
    "<row> is the row number r of the cell. The rth row is represented by the integer r.\n",
    "\n",
    "You are given a string s in the format \"<col1><row1>:<col2><row2>\", where <col1> represents the column c1, <row1> represents the row r1, <col2> represents the column c2, and <row2> represents the row r2, such that r1 <= r2 and c1 <= c2.\n",
    "\n",
    "Return the list of cells (x, y) such that r1 <= x <= r2 and c1 <= y <= c2. The cells should be represented as strings in the format mentioned above and be sorted in non-decreasing order first by columns and then by rows."
   ]
  },
  {
   "cell_type": "code",
   "execution_count": 70,
   "id": "ceba87e6",
   "metadata": {},
   "outputs": [],
   "source": [
    "def cell_rangeLC2194(s: str):\n",
    "        \"\"\"\n",
    "        type s: str\n",
    "        rtype: List[str]\n",
    "        \"\"\"\n",
    "        result = [] # Initialize an empty list to store the cell references.\n",
    "        for i in range(ord(s[0]), ord(s[-2]) + 1): # Loop through the ASCII values of characters from the first character of the input string to the second-to-last character.\n",
    "            for j in range(int(s[1]), int(s[-1]) + 1): # Loop through the integer values of characters from the second character to the last character of the input string.\n",
    "                x = chr(i) + str(j) # Create a cell reference by combining the current characters from the two loops.\n",
    "                result.append(x) # Append the cell reference to the result list.         \n",
    "        return result # Return the final list of cell references."
   ]
  },
  {
   "cell_type": "code",
   "execution_count": 71,
   "id": "9d088c67",
   "metadata": {},
   "outputs": [
    {
     "data": {
      "text/plain": [
       "['K1', 'K2', 'L1', 'L2']"
      ]
     },
     "execution_count": 71,
     "metadata": {},
     "output_type": "execute_result"
    }
   ],
   "source": [
    "s1 = \"K1:L2\"\n",
    "cell_rangeLC2194(s1)"
   ]
  },
  {
   "cell_type": "code",
   "execution_count": 72,
   "id": "d815aafc",
   "metadata": {},
   "outputs": [
    {
     "data": {
      "text/plain": [
       "['A1', 'B1', 'C1', 'D1', 'E1', 'F1']"
      ]
     },
     "execution_count": 72,
     "metadata": {},
     "output_type": "execute_result"
    }
   ],
   "source": [
    "s2 = \"A1:F1\"\n",
    "cell_rangeLC2194(s2)"
   ]
  },
  {
   "cell_type": "code",
   "execution_count": 73,
   "id": "02c26abf",
   "metadata": {},
   "outputs": [
    {
     "name": "stdout",
     "output_type": "stream",
     "text": [
      "\n",
      "        type s: str\n",
      "        rtype: List[str]\n",
      "        \n"
     ]
    }
   ],
   "source": [
    "print(cell_rangeLC2194.__doc__)"
   ]
  },
  {
   "cell_type": "markdown",
   "id": "2a866be8",
   "metadata": {},
   "source": [
    "# LC(2160) 53Q.You are given a positive integer num consisting of exactly four digits. Split num into two new integers new1 and new2 by using the digits found in num. Leading zeros are allowed in new1 and new2, and all the digits found in num must be used.\n",
    "\n",
    "For example, given num = 2932, you have the following digits: two 2's, one 9 and one 3. Some of the possible pairs [new1, new2] are [22, 93], [23, 92], [223, 9] and [2, 329].\n",
    "Return the minimum possible sum of new1 and new2."
   ]
  },
  {
   "cell_type": "code",
   "execution_count": 74,
   "id": "5ab978ba",
   "metadata": {},
   "outputs": [],
   "source": [
    "def min_sumLC2160(num: int):\n",
    "        \"\"\"\n",
    "        type num: int\n",
    "        rtype: int\n",
    "        \"\"\"\n",
    "        nums = [] # Initialize an empty list to store individual digits of the input number.\n",
    "        while num: # Extract individual digits from the input number and store them in the 'nums' list.\n",
    "            nums.append(num % 10) # Append the last digit of 'num' to 'nums'.\n",
    "            num //= 10 # Remove the last digit from 'num' using floor division.\n",
    "        nums.sort() # Sort the 'nums' list in ascending order.\n",
    "        return 10 * (nums[0] + nums[1]) + nums[2] + nums[3] # Return the result by combining the smallest two digits as the tens and the other two as the units."
   ]
  },
  {
   "cell_type": "code",
   "execution_count": 75,
   "id": "535ddce3",
   "metadata": {},
   "outputs": [
    {
     "data": {
      "text/plain": [
       "52"
      ]
     },
     "execution_count": 75,
     "metadata": {},
     "output_type": "execute_result"
    }
   ],
   "source": [
    "num = 2932\n",
    "min_sumLC2160(num)"
   ]
  },
  {
   "cell_type": "code",
   "execution_count": 76,
   "id": "95cc26c2",
   "metadata": {},
   "outputs": [
    {
     "data": {
      "text/plain": [
       "13"
      ]
     },
     "execution_count": 76,
     "metadata": {},
     "output_type": "execute_result"
    }
   ],
   "source": [
    "num = 4009\n",
    "min_sumLC2160(num)"
   ]
  },
  {
   "cell_type": "code",
   "execution_count": 77,
   "id": "d7499db1",
   "metadata": {},
   "outputs": [
    {
     "name": "stdout",
     "output_type": "stream",
     "text": [
      "\n",
      "        type num: int\n",
      "        rtype: int\n",
      "        \n"
     ]
    }
   ],
   "source": [
    "print(min_sumLC2160.__doc__)"
   ]
  },
  {
   "cell_type": "markdown",
   "id": "ee932d0c",
   "metadata": {},
   "source": [
    "# LC(2114) 54Q.A sentence is a list of words that are separated by a single space with no leading or trailing spaces.\n",
    "\n",
    "You are given an array of strings sentences, where each sentences[i] represents a single sentence.\n",
    "\n",
    "Return the maximum number of words that appear in a single sentence."
   ]
  },
  {
   "cell_type": "code",
   "execution_count": 78,
   "id": "cb723d22",
   "metadata": {},
   "outputs": [],
   "source": [
    "def mostWordsFoundLC2114(sentences: List[str]):\n",
    "    \"\"\"\n",
    "    type sentences: List[str]\n",
    "    rtype: int\n",
    "    \"\"\"\n",
    "    count = 0 # Initialize a variable 'count' to keep track of the maximum number of words found.\n",
    "    for s in sentences: # Iterate through each sentence in the 'sentences' list.\n",
    "        y = len(s.split()) # Split the sentence into words and get the count of words.\n",
    "        count = max(count, y) # Update 'count' to be the maximum of its current value and the count of words in the current sentence.\n",
    "    return count # Return the maximum number of words found across all sentences."
   ]
  },
  {
   "cell_type": "code",
   "execution_count": 79,
   "id": "d53f0d11",
   "metadata": {},
   "outputs": [
    {
     "data": {
      "text/plain": [
       "6"
      ]
     },
     "execution_count": 79,
     "metadata": {},
     "output_type": "execute_result"
    }
   ],
   "source": [
    "sentences = [\"alice and bob love leetcode\", \"i think so too\", \"this is great thanks very much\"]\n",
    "mostWordsFoundLC2114(sentences)"
   ]
  },
  {
   "cell_type": "code",
   "execution_count": 80,
   "id": "ce39b5b7",
   "metadata": {},
   "outputs": [
    {
     "data": {
      "text/plain": [
       "3"
      ]
     },
     "execution_count": 80,
     "metadata": {},
     "output_type": "execute_result"
    }
   ],
   "source": [
    "sentences = [\"please wait\", \"continue to fight\", \"continue to win\"]\n",
    "mostWordsFoundLC2114(sentences)"
   ]
  },
  {
   "cell_type": "code",
   "execution_count": 81,
   "id": "656f2967",
   "metadata": {},
   "outputs": [
    {
     "name": "stdout",
     "output_type": "stream",
     "text": [
      "\n",
      "    type sentences: List[str]\n",
      "    rtype: int\n",
      "    \n"
     ]
    }
   ],
   "source": [
    "print(mostWordsFoundLC2114.__doc__)"
   ]
  }
 ],
 "metadata": {
  "kernelspec": {
   "display_name": "Python 3 (ipykernel)",
   "language": "python",
   "name": "python3"
  },
  "language_info": {
   "codemirror_mode": {
    "name": "ipython",
    "version": 3
   },
   "file_extension": ".py",
   "mimetype": "text/x-python",
   "name": "python",
   "nbconvert_exporter": "python",
   "pygments_lexer": "ipython3",
   "version": "3.11.5"
  }
 },
 "nbformat": 4,
 "nbformat_minor": 5
}

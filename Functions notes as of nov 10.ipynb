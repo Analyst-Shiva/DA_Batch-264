{
 "cells": [
  {
   "cell_type": "markdown",
   "id": "33c6f2c5",
   "metadata": {},
   "source": [
    "# Functions:\n",
    "A function is a block of code which only runs when it is called. You can pass data, known as parameters, into a function. A function can return data as a result.\n",
    "In Python, a function is a block of organized, reusable code that performs a specific task. Functions provide better modularity for your application and facilitate code reuse.\n",
    "We have a function thats already noted and then it will be called whenerver wanted.\n",
    "A set of codes which will never change and values can be changed.\n",
    "build the function called as defining the function,passing the value by calling the function.\n",
    "\n",
    "# Defining a function:\n",
    "Syntax of defining a function is :\n",
    "def func_name(parameter/s):\n",
    "block of code\n",
    "Here def is a keyword, which tells the Interpretor that we are defining a function.\n",
    "func_name is name we give to the funclion we are defining, it acts as a variable name to the block\n",
    "\n",
    "# parameters:\n",
    "parameters can be considered as the variables we use to write/ define\n",
    "Some Benefits of Using Functions\n",
    "Increase Code Readability\n",
    "Increase Code Reusability\n",
    "\n",
    "Calling a function\n",
    "Syntax for calling a function:\n",
    "func_name(arg/s)\n",
    "here arg/s are actual values or real values of variables"
   ]
  },
  {
   "cell_type": "code",
   "execution_count": 1,
   "id": "16b85111",
   "metadata": {},
   "outputs": [],
   "source": [
    "#definig a function\n",
    "def foosum(a,b): # a,b are variables\n",
    "    print(a+b)"
   ]
  },
  {
   "cell_type": "code",
   "execution_count": 2,
   "id": "bdf70f5d",
   "metadata": {},
   "outputs": [
    {
     "name": "stdout",
     "output_type": "stream",
     "text": [
      "4\n"
     ]
    },
    {
     "data": {
      "text/plain": [
       "4"
      ]
     },
     "execution_count": 2,
     "metadata": {},
     "output_type": "execute_result"
    }
   ],
   "source": [
    "# calling a function, we can call a function multiple tyms \n",
    "foosum(1,3) # 1,3  are  arguments\n",
    "4"
   ]
  },
  {
   "cell_type": "code",
   "execution_count": 3,
   "id": "f76a2526",
   "metadata": {},
   "outputs": [
    {
     "name": "stdout",
     "output_type": "stream",
     "text": [
      "12\n"
     ]
    }
   ],
   "source": [
    "foosum(10,2)"
   ]
  },
  {
   "cell_type": "markdown",
   "id": "bf89b7b4",
   "metadata": {},
   "source": [
    "# Arguments\n",
    "Information can be passed into functions as arguments.\n",
    "Arguments are specified after the function name, inside the parentheses.\n",
    "You can add as many arguments as you want, just separate them with a comma.\n",
    "Python supports 3 types of arguments:\n",
    "Positional Arguments.\n",
    "Keyword Arguments.\n",
    "Default Arguments.\n",
    "1. Positional Arguments\n",
    "Positional arguments mean whenever we pass the arguments in the order we have defined function parameters in which if you change the argument position then you may get the unexpected output.\n",
    "We should use positional Arguments whenever we know the order of argument to be passed.\n",
    "we will call the function by using the position-only arguments in two ways\n",
    "In both cases, we will be getting different outputs from which one will be correct and another one will be incorrect."
   ]
  },
  {
   "cell_type": "code",
   "execution_count": 4,
   "id": "93ff27d6",
   "metadata": {},
   "outputs": [],
   "source": [
    "def foodivision(n,d):\n",
    "    print(n/d)"
   ]
  },
  {
   "cell_type": "code",
   "execution_count": 5,
   "id": "98eac2b5",
   "metadata": {},
   "outputs": [
    {
     "name": "stdout",
     "output_type": "stream",
     "text": [
      "5.0\n"
     ]
    }
   ],
   "source": [
    "foodivision(10,2)# first arg to first parameter and sec arg \n",
    "#position maters (unpacking ) parametes place "
   ]
  },
  {
   "cell_type": "code",
   "execution_count": 6,
   "id": "11b06458",
   "metadata": {},
   "outputs": [],
   "source": [
    "def foodivision(n,d):\n",
    "    print(n/d)"
   ]
  },
  {
   "cell_type": "code",
   "execution_count": 7,
   "id": "864fe1d5",
   "metadata": {},
   "outputs": [
    {
     "name": "stdout",
     "output_type": "stream",
     "text": [
      "0.2\n"
     ]
    }
   ],
   "source": [
    "foodivision(2,10) # in this case n=2 and d=10 so the output is not crct "
   ]
  },
  {
   "cell_type": "markdown",
   "id": "09f4b165",
   "metadata": {},
   "source": [
    "# 2. Keyword Argument\n",
    "Keyword arguments mean whenever we pass the arguments(or value) by their parameter names at the time of calling the function in which if you change the position of arguments then there will be no change in the output.\n",
    "All keyword argument should follos postional argument\n",
    "Each parameter will take only one argument 'argument can be tuple also\n",
    "keyword will always be at last\n"
   ]
  },
  {
   "cell_type": "code",
   "execution_count": 8,
   "id": "b794ed48",
   "metadata": {},
   "outputs": [],
   "source": [
    "def foodivision(n,d):\n",
    "    print(n/d)"
   ]
  },
  {
   "cell_type": "code",
   "execution_count": 9,
   "id": "d918c713",
   "metadata": {},
   "outputs": [
    {
     "name": "stdout",
     "output_type": "stream",
     "text": [
      "0.2\n"
     ]
    }
   ],
   "source": [
    "#keyworD arguments\n",
    "foodivision(n=2,d=10)"
   ]
  },
  {
   "cell_type": "code",
   "execution_count": 10,
   "id": "655ecbd4",
   "metadata": {},
   "outputs": [],
   "source": [
    "def foo(a,b,c):\n",
    "    x=a+b\n",
    "    y=x/c\n",
    "    print(y)"
   ]
  },
  {
   "cell_type": "code",
   "execution_count": 11,
   "id": "a2e097ae",
   "metadata": {},
   "outputs": [
    {
     "name": "stdout",
     "output_type": "stream",
     "text": [
      "0.6\n"
     ]
    }
   ],
   "source": [
    "foo(1,2,c=5) "
   ]
  },
  {
   "cell_type": "code",
   "execution_count": 12,
   "id": "6e9fa581",
   "metadata": {},
   "outputs": [
    {
     "ename": "TypeError",
     "evalue": "foo() got multiple values for argument 'a'",
     "output_type": "error",
     "traceback": [
      "\u001b[1;31m---------------------------------------------------------------------------\u001b[0m",
      "\u001b[1;31mTypeError\u001b[0m                                 Traceback (most recent call last)",
      "Cell \u001b[1;32mIn[12], line 1\u001b[0m\n\u001b[1;32m----> 1\u001b[0m foo(\u001b[38;5;241m1\u001b[39m,\u001b[38;5;241m2\u001b[39m,a\u001b[38;5;241m=\u001b[39m\u001b[38;5;241m5\u001b[39m)\n",
      "\u001b[1;31mTypeError\u001b[0m: foo() got multiple values for argument 'a'"
     ]
    }
   ],
   "source": [
    "foo(1,2,a=5)  # multiple value error"
   ]
  },
  {
   "cell_type": "markdown",
   "id": "8cb1264d",
   "metadata": {},
   "source": [
    "# Default Argument\n",
    "Python has a different way of representing syntax and default values for function arguments.\n",
    "Default values indicate that the function argument will take that value if no argument value is passed during the function call.\n",
    "The default value is assigned by using the assignment(=) operator of the form keywordname=value.\n",
    "default arguments are passed at the time of defining a function"
   ]
  },
  {
   "cell_type": "code",
   "execution_count": 13,
   "id": "373dd91c",
   "metadata": {},
   "outputs": [],
   "source": [
    "def foopotentialenergy(m,h,g=9.8): # default arguments\n",
    "    print(m*h*g)"
   ]
  },
  {
   "cell_type": "code",
   "execution_count": 14,
   "id": "d15a4eb0",
   "metadata": {},
   "outputs": [
    {
     "name": "stdout",
     "output_type": "stream",
     "text": [
      "490.00000000000006\n"
     ]
    }
   ],
   "source": [
    "foopotentialenergy(10,5) # g is default argument"
   ]
  },
  {
   "cell_type": "code",
   "execution_count": 15,
   "id": "1515db18",
   "metadata": {},
   "outputs": [
    {
     "name": "stdout",
     "output_type": "stream",
     "text": [
      "500\n"
     ]
    }
   ],
   "source": [
    "foopotentialenergy(10,5,10) # new value of default value using position  argument"
   ]
  },
  {
   "cell_type": "code",
   "execution_count": 16,
   "id": "3d15de72",
   "metadata": {},
   "outputs": [
    {
     "name": "stdout",
     "output_type": "stream",
     "text": [
      "500\n"
     ]
    }
   ],
   "source": [
    "foopotentialenergy(10,5,g=10)# pass new value for default value using key word argument"
   ]
  },
  {
   "cell_type": "markdown",
   "id": "93ef5e83",
   "metadata": {},
   "source": [
    "# Documentation strings\n",
    "Documentation strings (or docstrings) provide a convenient way of associating documentation with Python modules, functions, classes, and methods.\n",
    "It’s specified in source code that is used, like a comment, to document a specific segment of code. Unlike conventional source code comments, the docstring should describe what the function does, not how.\n",
    "\n",
    "Declaring Docstrings:\n",
    "The docstrings are declared using ”’triple single quotes”’ or “”” triple double quotes “”” just below the class, method, or function declaration. All functions should have a docstring.\n",
    "\n",
    "Accessing Docstrings:\n",
    "The docstrings can be accessed using the __ doc __ method of the object or using the help function."
   ]
  },
  {
   "cell_type": "code",
   "execution_count": 17,
   "id": "ed77d576",
   "metadata": {},
   "outputs": [],
   "source": [
    "def foodivision(d: float , n: float):\n",
    "    ''' \n",
    "    d= denominator \n",
    "    n= n........\n",
    "    '''\n",
    "    print(n/d) # here ( ''' doc strings ''')"
   ]
  },
  {
   "cell_type": "code",
   "execution_count": 18,
   "id": "b750f3af",
   "metadata": {},
   "outputs": [
    {
     "name": "stdout",
     "output_type": "stream",
     "text": [
      " \n",
      "    d= denominator \n",
      "    n= n........\n",
      "    \n"
     ]
    }
   ],
   "source": [
    "print(foodivision.__doc__) # to read doc strings use (.double underscore doc doubleunderscore)\n",
    "#(.__doc__)"
   ]
  },
  {
   "cell_type": "markdown",
   "id": "c1566bd3",
   "metadata": {},
   "source": [
    "# Return\n",
    "return statement is used to end the execution of the function call and “returns” the result (value of the expression following the return keyword) to the caller.\n",
    "The statements after the return statements are not executed.\n",
    "If the return statement is without any expression, then the special value None is returned.\n",
    "A return statement is overall used to invoke a function so that the passed statements can be executed.\n",
    "## Note: Return statement can not be used outside the function.\n",
    "\n",
    "Syntax:\n",
    "def fun():\n",
    "statements\n",
    ".\n",
    ".\n",
    "return [expression]"
   ]
  },
  {
   "cell_type": "code",
   "execution_count": 1,
   "id": "756380a7",
   "metadata": {},
   "outputs": [],
   "source": [
    "def foostrfind(s,char):\n",
    "    x=s\n",
    "    y=char\n",
    "    for i,j in enumerate(x):\n",
    "        if y==j:\n",
    "            return i\n",
    "    else:\n",
    "            return -1"
   ]
  },
  {
   "cell_type": "code",
   "execution_count": 2,
   "id": "38f66b47",
   "metadata": {},
   "outputs": [
    {
     "data": {
      "text/plain": [
       "4"
      ]
     },
     "execution_count": 2,
     "metadata": {},
     "output_type": "execute_result"
    }
   ],
   "source": [
    "foostrfind('holla','a')"
   ]
  },
  {
   "cell_type": "markdown",
   "id": "dd5c3baf",
   "metadata": {},
   "source": [
    "pascal triangle\n",
    "fibbonaic series triangle\n",
    "hanni towers"
   ]
  },
  {
   "cell_type": "markdown",
   "id": "6528fd20",
   "metadata": {},
   "source": [
    "# Lambda function\n",
    "These functions are known as anonymous function\n",
    "Lambda function is used in inbuilt higher order function\n",
    "syntax:\n",
    "lambda arguments : expression\n",
    "This function by default returns a value , no need to write return statement\n",
    "\n",
    "## Python lambda properties:\n",
    "This function can have any number of arguments but only one expression, which is evaluated and returned.\n",
    "One is free to use lambda functions wherever function objects are required.\n",
    "You need to keep in your knowledge that lambda functions are syntactically restricted to a single expression.\n",
    "It has various uses in particular fields of programming, besides other types of expressions in functions."
   ]
  },
  {
   "cell_type": "code",
   "execution_count": 3,
   "id": "c6da3b84",
   "metadata": {},
   "outputs": [
    {
     "data": {
      "text/plain": [
       "8"
      ]
     },
     "execution_count": 3,
     "metadata": {},
     "output_type": "execute_result"
    }
   ],
   "source": [
    "(lambda x,y:x**y)(2,3) # defing and passing value "
   ]
  },
  {
   "cell_type": "code",
   "execution_count": 4,
   "id": "eb851896",
   "metadata": {},
   "outputs": [
    {
     "data": {
      "text/plain": [
       "6"
      ]
     },
     "execution_count": 4,
     "metadata": {},
     "output_type": "execute_result"
    }
   ],
   "source": [
    "n=[1,2,3]\n",
    "(lambda x: sum(x))([1,2,3])"
   ]
  },
  {
   "cell_type": "code",
   "execution_count": 5,
   "id": "9d6d50f2",
   "metadata": {},
   "outputs": [
    {
     "data": {
      "text/plain": [
       "'odd'"
      ]
     },
     "execution_count": 5,
     "metadata": {},
     "output_type": "execute_result"
    }
   ],
   "source": [
    "x=5\n",
    "('even' if x%2==0 else 'odd')\n",
    "'odd'"
   ]
  },
  {
   "cell_type": "code",
   "execution_count": 6,
   "id": "ee81de38",
   "metadata": {},
   "outputs": [
    {
     "data": {
      "text/plain": [
       "([2, 4, 6, 8, 10, 12, 14, 16, 18, 20, 22, 24, 26, 28, 30],\n",
       " [3, 5, 7, 9, 11, 13, 15, 17, 19, 21, 23, 25, 27, 29])"
      ]
     },
     "execution_count": 6,
     "metadata": {},
     "output_type": "execute_result"
    }
   ],
   "source": [
    "(lambda x,y:([ele for ele in range (x,y+1)if ele%2==0], [ele for ele in range (x,y+1)if ele%2!=0]))(2,30)"
   ]
  },
  {
   "cell_type": "markdown",
   "id": "74ec4f3f",
   "metadata": {},
   "source": [
    "# map()\n",
    "map() function returns a map object(which is an iterator) of the results after applying the given function to each item of a given iterable (list, tuple etc.)\n",
    "Syntax:\n",
    "map(fun, iter)\n",
    "## Parameters:\n",
    "fun: It is a function to which map passes each element of given iterable.\n",
    "iter: It is iterable which is to be mapped.\n",
    "NOTE: You can pass one or more iterable to the map() function.\n",
    "## Returns:\n",
    "Returns a list of the results after applying the given function to each item of a given iterable (list, tuple etc.)\n",
    "NOTE : The returned value from map() (map object) then can be passed to functions like list() (to create a list), set() (to create a set)"
   ]
  },
  {
   "cell_type": "code",
   "execution_count": 7,
   "id": "41c5d189",
   "metadata": {},
   "outputs": [
    {
     "data": {
      "text/plain": [
       "[4, 9, 16]"
      ]
     },
     "execution_count": 7,
     "metadata": {},
     "output_type": "execute_result"
    }
   ],
   "source": [
    "z=map(lambda x: x**2,[2,3,4])\n",
    "list(z)"
   ]
  },
  {
   "cell_type": "code",
   "execution_count": 8,
   "id": "39e03501",
   "metadata": {},
   "outputs": [
    {
     "data": {
      "text/plain": [
       "<map at 0x1a2d54adb40>"
      ]
     },
     "execution_count": 8,
     "metadata": {},
     "output_type": "execute_result"
    }
   ],
   "source": [
    "z=map(lambda x,y : x+y,[1,2,3],[10,20,30]) # 2 iterators using\n",
    "z"
   ]
  },
  {
   "cell_type": "code",
   "execution_count": 9,
   "id": "71dc65ee",
   "metadata": {},
   "outputs": [
    {
     "data": {
      "text/plain": [
       "[11, 22, 33]"
      ]
     },
     "execution_count": 9,
     "metadata": {},
     "output_type": "execute_result"
    }
   ],
   "source": [
    "list(z)"
   ]
  },
  {
   "cell_type": "code",
   "execution_count": 10,
   "id": "1cb7137c",
   "metadata": {},
   "outputs": [
    {
     "data": {
      "text/plain": [
       "<map at 0x1a2d54ae110>"
      ]
     },
     "execution_count": 10,
     "metadata": {},
     "output_type": "execute_result"
    }
   ],
   "source": [
    "#1/0 #shows error\n",
    "z=map(lambda x:x/0,[1,2,3])\n",
    "z #x/0 no error ( map fn takes lambda fn and it passes iterator values and starts mapping)\n",
    "# fn will be exectued at runtym "
   ]
  },
  {
   "cell_type": "code",
   "execution_count": null,
   "id": "3b431614",
   "metadata": {},
   "outputs": [],
   "source": [
    "list(z) # while running it shows error"
   ]
  },
  {
   "cell_type": "code",
   "execution_count": 11,
   "id": "bcc9fa0b",
   "metadata": {},
   "outputs": [
    {
     "data": {
      "text/plain": [
       "<map at 0x1a2d54adf90>"
      ]
     },
     "execution_count": 11,
     "metadata": {},
     "output_type": "execute_result"
    }
   ],
   "source": [
    "z=map(lambda x: x**x,(5,5)) # pgrm\n",
    "z"
   ]
  },
  {
   "cell_type": "code",
   "execution_count": 12,
   "id": "77033aca",
   "metadata": {},
   "outputs": [
    {
     "data": {
      "text/plain": [
       "[3125, 3125]"
      ]
     },
     "execution_count": 12,
     "metadata": {},
     "output_type": "execute_result"
    }
   ],
   "source": [
    "list(z)"
   ]
  },
  {
   "cell_type": "code",
   "execution_count": 13,
   "id": "77161325",
   "metadata": {},
   "outputs": [
    {
     "data": {
      "text/plain": [
       "<map at 0x1a2d54ae7a0>"
      ]
     },
     "execution_count": 13,
     "metadata": {},
     "output_type": "execute_result"
    }
   ],
   "source": [
    "z=map(lambda x:x*2,'Shiva')\n",
    "z"
   ]
  },
  {
   "cell_type": "code",
   "execution_count": 14,
   "id": "4bd11f32",
   "metadata": {},
   "outputs": [
    {
     "data": {
      "text/plain": [
       "['SS', 'hh', 'ii', 'vv', 'aa']"
      ]
     },
     "execution_count": 14,
     "metadata": {},
     "output_type": "execute_result"
    }
   ],
   "source": [
    "list(z)"
   ]
  },
  {
   "cell_type": "markdown",
   "id": "d4b80fb3",
   "metadata": {},
   "source": [
    "# filter()\n",
    "The filter() method filters the given sequence with the help of a function that tests each element in the sequence to be true or not.\n",
    "Syntax: filter(function, sequence)\n",
    "## Parameters:\n",
    "function: function that tests if each element of a sequence is true or not.\n",
    "## sequence: sequence which needs to be filtered, it can be sets, lists, tuples, or containers of any iterators.\n",
    "Returns:\n",
    "an iterator that is already filtered( only true values )"
   ]
  },
  {
   "cell_type": "code",
   "execution_count": 15,
   "id": "e7be7de9",
   "metadata": {},
   "outputs": [
    {
     "data": {
      "text/plain": [
       "[2, 4]"
      ]
     },
     "execution_count": 15,
     "metadata": {},
     "output_type": "execute_result"
    }
   ],
   "source": [
    "# filter  only true values will be executed\n",
    "list(filter(lambda x:True if x%2==0 else False,[1,2,3,4]))"
   ]
  },
  {
   "cell_type": "code",
   "execution_count": 17,
   "id": "80ee1684",
   "metadata": {},
   "outputs": [
    {
     "data": {
      "text/plain": [
       "['i', 'a']"
      ]
     },
     "execution_count": 17,
     "metadata": {},
     "output_type": "execute_result"
    }
   ],
   "source": [
    "z=list(filter(lambda x:True if x in'aeiouAEIOU' else False,'Shiva'))\n",
    "z"
   ]
  },
  {
   "cell_type": "code",
   "execution_count": 19,
   "id": "8a5c1eaf",
   "metadata": {},
   "outputs": [
    {
     "data": {
      "text/plain": [
       "['S', 'h', 'i', 'v', 'a', '7', '8', '9', '1']"
      ]
     },
     "execution_count": 19,
     "metadata": {},
     "output_type": "execute_result"
    }
   ],
   "source": [
    "list(filter(lambda x:True if  x.isalnum() else False,'Shiva789@1!'))"
   ]
  },
  {
   "cell_type": "code",
   "execution_count": 20,
   "id": "baf8cf62",
   "metadata": {},
   "outputs": [
    {
     "data": {
      "text/plain": [
       "['@', '!']"
      ]
     },
     "execution_count": 20,
     "metadata": {},
     "output_type": "execute_result"
    }
   ],
   "source": [
    "list(filter(lambda x:True if  x.isalnum() is False else False,'Shiva789@1!'))"
   ]
  },
  {
   "cell_type": "code",
   "execution_count": 21,
   "id": "de4327d3",
   "metadata": {},
   "outputs": [
    {
     "data": {
      "text/plain": [
       "['S', 'h', 'i', 'v', 'a']"
      ]
     },
     "execution_count": 21,
     "metadata": {},
     "output_type": "execute_result"
    }
   ],
   "source": [
    "list(filter(lambda x:True if  x.isalpha()  else False,'Shiva789@1!'))"
   ]
  },
  {
   "cell_type": "code",
   "execution_count": 22,
   "id": "b3689295",
   "metadata": {},
   "outputs": [
    {
     "data": {
      "text/plain": [
       "['h', 'i', 'v', 'a']"
      ]
     },
     "execution_count": 22,
     "metadata": {},
     "output_type": "execute_result"
    }
   ],
   "source": [
    "list(filter(lambda x:True if  x.islower()  else False,'Shiva789@1!'))"
   ]
  },
  {
   "cell_type": "code",
   "execution_count": 23,
   "id": "1bec5f03",
   "metadata": {},
   "outputs": [
    {
     "data": {
      "text/plain": [
       "['S']"
      ]
     },
     "execution_count": 23,
     "metadata": {},
     "output_type": "execute_result"
    }
   ],
   "source": [
    "list(filter(lambda x:True if  x.isupper()  else False,'Shiva789@1!'))"
   ]
  },
  {
   "cell_type": "markdown",
   "id": "e49eba10",
   "metadata": {},
   "source": [
    "# reduce()\n",
    "The reduce(fun,seq) function is used to apply a particular function passed in its argument to all of the list elements mentioned in the sequence passed along.\n",
    "This function is defined in “functools” module.\n",
    "## Working :\n",
    "At first step, first two elements of sequence are picked and the result is obtained.\n",
    "Next step is to apply the same function to the previously attained result and the number just succeeding the second element and the result is again stored.\n",
    "This process continues till no more elements are left in the container.\n",
    "The final returned result is returned and printed on console."
   ]
  },
  {
   "cell_type": "code",
   "execution_count": 24,
   "id": "c01dcf2f",
   "metadata": {},
   "outputs": [
    {
     "data": {
      "text/plain": [
       "10"
      ]
     },
     "execution_count": 24,
     "metadata": {},
     "output_type": "execute_result"
    }
   ],
   "source": [
    "import functools # we have to import functools to use reduce \n",
    "functools.reduce(lambda x,y:x+y,[1,2,3,4]) # it adds first two elements then goes to other "
   ]
  },
  {
   "cell_type": "code",
   "execution_count": 25,
   "id": "c308dfaf",
   "metadata": {},
   "outputs": [
    {
     "data": {
      "text/plain": [
       "10"
      ]
     },
     "execution_count": 25,
     "metadata": {},
     "output_type": "execute_result"
    }
   ],
   "source": [
    "n=[1,2,3,4]\n",
    "(lambda x: sum(x))([1,2,3,4]) # using sum we can add "
   ]
  },
  {
   "cell_type": "code",
   "execution_count": 26,
   "id": "62ff3554",
   "metadata": {},
   "outputs": [
    {
     "data": {
      "text/plain": [
       "10"
      ]
     },
     "execution_count": 26,
     "metadata": {},
     "output_type": "execute_result"
    }
   ],
   "source": [
    "# here without using sum we can add using reduce()\n",
    "import functools # we have to import functools to use reduce \n",
    "functools.reduce(lambda x,y:x+y,[1,2,3,4]) # it adds first two elements then goes to other "
   ]
  }
 ],
 "metadata": {
  "kernelspec": {
   "display_name": "Python 3 (ipykernel)",
   "language": "python",
   "name": "python3"
  },
  "language_info": {
   "codemirror_mode": {
    "name": "ipython",
    "version": 3
   },
   "file_extension": ".py",
   "mimetype": "text/x-python",
   "name": "python",
   "nbconvert_exporter": "python",
   "pygments_lexer": "ipython3",
   "version": "3.11.5"
  }
 },
 "nbformat": 4,
 "nbformat_minor": 5
}

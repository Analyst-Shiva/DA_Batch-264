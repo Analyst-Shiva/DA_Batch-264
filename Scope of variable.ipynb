{
 "cells": [
  {
   "cell_type": "markdown",
   "id": "226c02ce",
   "metadata": {},
   "source": [
    "# Namespace\n",
    "A namespace is a system that has a unique name for each and every object in Python.\n",
    "An object might be a variable or a method.\n",
    "Python itself maintains a namespace in the form of a Python dictionary.\n",
    "the Python interpreter understands what exact method or variable one is trying to point to in the code, depending upon the namespace. So, the division of the word itself gives a little more information.\n",
    "Its Name (which means name, a unique identifier) + Space(which talks something related to scope).\n",
    "Here, a name might be of any Python method or variable and space depends upon the location from where is trying to access a variable or a method.\n",
    "\n",
    "# Types of namespaces :\n",
    "When Python interpreter runs solely without any user-defined modules, methods, classes, etc. Some functions like print(), id() are always present, these are built-in namespaces.\n",
    "When a user creates a module, a global namespace gets created, later the creation of local functions creates the local namespace.\n",
    "The built-in namespace encompasses the global namespace and the global namespace encompasses the local namespace.\n",
    "\n",
    "# Scope of variable\n",
    "The location where we can find a variable and also access it if required is called the scope of a variable. "
   ]
  },
  {
   "cell_type": "markdown",
   "id": "67c8fc9b",
   "metadata": {},
   "source": [
    "Types of Scope of variable\n",
    "\n",
    "1. Local Space\n",
    "2. Enclosing Space\n",
    "3. Global Space\n",
    "4. Built in Space"
   ]
  },
  {
   "cell_type": "markdown",
   "id": "ebc1ea30",
   "metadata": {},
   "source": [
    "# Local scope\n",
    "Local variables in Python are those which are initialized inside a function and belong only to that particular function.\n",
    "It cannot be accessed anywhere outside the function."
   ]
  },
  {
   "cell_type": "code",
   "execution_count": 11,
   "id": "456343c8",
   "metadata": {},
   "outputs": [
    {
     "name": "stdout",
     "output_type": "stream",
     "text": [
      "I love Hyderabad\n"
     ]
    }
   ],
   "source": [
    "def f():\n",
    "\n",
    "\t# local variable\n",
    "\ts = \"I love Hyderabad\"\n",
    "\tprint(s)\n",
    "\n",
    "\n",
    "# Driver code\n",
    "f()\n"
   ]
  },
  {
   "cell_type": "markdown",
   "id": "1efd4895",
   "metadata": {},
   "source": [
    " ## If we will try to use this local variable outside the function then let’s see what will happen."
   ]
  },
  {
   "cell_type": "code",
   "execution_count": 12,
   "id": "d0dcb003",
   "metadata": {},
   "outputs": [
    {
     "name": "stdout",
     "output_type": "stream",
     "text": [
      "Inside Function: I love Hyderabad\n",
      "Look for Hyderabad Python Section\n"
     ]
    }
   ],
   "source": [
    "def f():\n",
    "\t\n",
    "\t# local variable\n",
    "\ts = \"I love Hyderabad\"\n",
    "\tprint(\"Inside Function:\", s)\n",
    "\n",
    "# Driver code\n",
    "f()\n",
    "print(s)\n"
   ]
  },
  {
   "cell_type": "markdown",
   "id": "e078a21b",
   "metadata": {},
   "source": [
    "# Python Global variables\n",
    "\n",
    "Global variables are the ones that are defined and declared outside any function and are not specified to any function. They can be used by any part of the program."
   ]
  },
  {
   "cell_type": "code",
   "execution_count": 13,
   "id": "5fc3a940",
   "metadata": {},
   "outputs": [
    {
     "name": "stdout",
     "output_type": "stream",
     "text": [
      "I love Hyderabad\n"
     ]
    }
   ],
   "source": [
    "# This function uses global variable s\n",
    "def f():\n",
    "\tprint(s)\n",
    "\n",
    "\n",
    "# Global scope\n",
    "s = \"I love Hyderabad\"\n",
    "f()"
   ]
  },
  {
   "cell_type": "markdown",
   "id": "102b41c5",
   "metadata": {},
   "source": [
    "# Global and Local Variables with the Same Name\n",
    "\n",
    "Now suppose a variable with the same name is defined inside the scope of the function as well then it will print the value given inside the function only and not the global value."
   ]
  },
  {
   "cell_type": "code",
   "execution_count": 14,
   "id": "20d4612d",
   "metadata": {},
   "outputs": [
    {
     "name": "stdout",
     "output_type": "stream",
     "text": [
      "Me too.\n",
      "I love Hyderabad\n"
     ]
    }
   ],
   "source": [
    "# This function has a variable with\n",
    "# name same as s.\n",
    "def f():\n",
    "\ts = \"Me too.\"\n",
    "\tprint(s)\n",
    "\n",
    "# Global scope\n",
    "s = \"I love Hyderabad\"\n",
    "f()\n",
    "print(s)"
   ]
  },
  {
   "cell_type": "markdown",
   "id": "60623b38",
   "metadata": {},
   "source": [
    "### The variable s is defined as the string “I love Hyderabad”, before we call the function f(). The only statement in f() is the print(s) statement. As there are no locals, the value from the global s will be used.\n",
    "### The question is, what will happen if we change the value of s inside of the function f()? Will it affect the global s as well? We test it in the following piece of code:"
   ]
  },
  {
   "cell_type": "code",
   "execution_count": 15,
   "id": "f1d5bcb0",
   "metadata": {},
   "outputs": [
    {
     "ename": "UnboundLocalError",
     "evalue": "cannot access local variable 's' where it is not associated with a value",
     "output_type": "error",
     "traceback": [
      "\u001b[1;31m---------------------------------------------------------------------------\u001b[0m",
      "\u001b[1;31mUnboundLocalError\u001b[0m                         Traceback (most recent call last)",
      "Cell \u001b[1;32mIn[15], line 13\u001b[0m\n\u001b[0;32m     11\u001b[0m \u001b[38;5;66;03m# Global scope\u001b[39;00m\n\u001b[0;32m     12\u001b[0m s \u001b[38;5;241m=\u001b[39m \u001b[38;5;124m\"\u001b[39m\u001b[38;5;124mI love Hyderabad\u001b[39m\u001b[38;5;124m\"\u001b[39m\n\u001b[1;32m---> 13\u001b[0m f()\n\u001b[0;32m     14\u001b[0m \u001b[38;5;28mprint\u001b[39m(s)\n",
      "Cell \u001b[1;32mIn[15], line 2\u001b[0m, in \u001b[0;36mf\u001b[1;34m()\u001b[0m\n\u001b[0;32m      1\u001b[0m \u001b[38;5;28;01mdef\u001b[39;00m \u001b[38;5;21mf\u001b[39m():\n\u001b[1;32m----> 2\u001b[0m \t\u001b[38;5;28mprint\u001b[39m(s)\n\u001b[0;32m      4\u001b[0m \t\u001b[38;5;66;03m# This program will NOT show error\u001b[39;00m\n\u001b[0;32m      5\u001b[0m \t\u001b[38;5;66;03m# if we comment below line.\u001b[39;00m\n\u001b[0;32m      6\u001b[0m \ts \u001b[38;5;241m=\u001b[39m \u001b[38;5;124m\"\u001b[39m\u001b[38;5;124mMe too.\u001b[39m\u001b[38;5;124m\"\u001b[39m\n",
      "\u001b[1;31mUnboundLocalError\u001b[0m: cannot access local variable 's' where it is not associated with a value"
     ]
    }
   ],
   "source": [
    "def f():\n",
    "\tprint(s)\n",
    "\n",
    "\t# This program will NOT show error\n",
    "\t# if we comment below line.\n",
    "\ts = \"Me too.\"\n",
    "\n",
    "\tprint(s)\n",
    "\n",
    "\n",
    "# Global scope\n",
    "s = \"I love Hyderabad\"\n",
    "f()\n",
    "print(s)"
   ]
  },
  {
   "cell_type": "markdown",
   "id": "6c788da7",
   "metadata": {},
   "source": [
    "### To make the above program work, we need to use global keyword. We only need to use global keyword in a function if we want to do assignments / change them. global is not needed for printing and accessing. Why? Python “assumes” that we want a local variable due to the assignment to s inside of f(), so the first print statement throws this error message. Any variable which is changed or created inside of a function is local, if it hasn’t been declared as a global variable. \n",
    "\n",
    "### To tell Python, that we want to use the global variable, we have to use the keyword global, as can be seen in the following\n",
    "\n",
    "### Example:"
   ]
  },
  {
   "cell_type": "code",
   "execution_count": null,
   "id": "e04cc869",
   "metadata": {},
   "outputs": [],
   "source": [
    "# This function modifies global variable 's'\n",
    "def f():\n",
    "\tglobal s\n",
    "\tprint(s)\n",
    "\ts = \"Look for Hyderabad Python Section\"\n",
    "\tprint(s)\n",
    "\n",
    "\n",
    "# Global Scope\n",
    "s = \"Python is great !\"\n",
    "f()\n",
    "print(s)"
   ]
  },
  {
   "cell_type": "markdown",
   "id": "d09f86c8",
   "metadata": {},
   "source": [
    "### Consider the below example for a better understanding of the topic. "
   ]
  },
  {
   "cell_type": "code",
   "execution_count": null,
   "id": "7502bae2",
   "metadata": {},
   "outputs": [],
   "source": [
    "# Python program to demonstrate\n",
    "# scope of variable\n",
    "\n",
    "a = 1\n",
    "\n",
    "# Uses global because there is no local 'a' \n",
    "def f(): \n",
    "\tprint('Inside f() : ', a)\n",
    "\n",
    "# Variable 'a' is redefined as a local \n",
    "def g():\t \n",
    "\ta = 2\n",
    "\tprint('Inside g() : ', a)\n",
    "\n",
    "# Uses global keyword to modify global 'a' \n",
    "def h():\t \n",
    "\tglobal a \n",
    "\ta = 3\n",
    "\tprint('Inside h() : ', a) \n",
    "\n",
    "# Global scope \n",
    "print('global : ', a)\n",
    "f() \n",
    "print('global : ', a) \n",
    "g() \n",
    "print('global : ', a)\n",
    "h() \n",
    "print('global : ', a) \n"
   ]
  },
  {
   "cell_type": "markdown",
   "id": "52cc098c",
   "metadata": {},
   "source": [
    "# Python Nonlocal keyword\n",
    "## In Python, the nonlocal keyword is used in the case of nested functions. This keyword works similarly to the global, but rather than global, this keyword declares a variable to point to the variable of an outside enclosing function, in case of nested functions.\n",
    "\n",
    "## Example: "
   ]
  },
  {
   "cell_type": "code",
   "execution_count": null,
   "id": "b65bf2d0",
   "metadata": {},
   "outputs": [],
   "source": [
    "# Python program to demonstrate\n",
    "# nonlocal keyword\n",
    "\n",
    "print(\"Value of a using nonlocal is : \", end=\"\")\n",
    "\n",
    "\n",
    "def outer():\n",
    "\ta = 5\n",
    "\n",
    "\tdef inner():\n",
    "\t\tnonlocal a\n",
    "\t\ta = 10\n",
    "\tinner()\n",
    "\tprint(a)\n",
    "\n",
    "\n",
    "outer()\n",
    "\n",
    "# demonstrating without non local\n",
    "# inner loop not changing the value of outer a\n",
    "# prints 5\n",
    "print(\"Value of a without using nonlocal is : \", end=\"\")\n",
    "\n",
    "\n",
    "def outer():\n",
    "\ta = 5\n",
    "\n",
    "\tdef inner():\n",
    "\t\ta = 10\n",
    "\tinner()\n",
    "\tprint(a)\n",
    "\n",
    "\n",
    "outer()"
   ]
  }
 ],
 "metadata": {
  "kernelspec": {
   "display_name": "Python 3 (ipykernel)",
   "language": "python",
   "name": "python3"
  },
  "language_info": {
   "codemirror_mode": {
    "name": "ipython",
    "version": 3
   },
   "file_extension": ".py",
   "mimetype": "text/x-python",
   "name": "python",
   "nbconvert_exporter": "python",
   "pygments_lexer": "ipython3",
   "version": "3.11.5"
  }
 },
 "nbformat": 4,
 "nbformat_minor": 5
}

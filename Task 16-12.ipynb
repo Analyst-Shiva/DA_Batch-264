{
 "cells": [
  {
   "cell_type": "code",
   "execution_count": 69,
   "id": "f241fc47",
   "metadata": {},
   "outputs": [],
   "source": [
    "import numpy as np\n",
    "def foo_1(arr, target):\n",
    "    if target in arr:\n",
    "        x=np.abs(arr - target) # Calculating absolute differences\n",
    "        index = np.argsort(x) # indices that would sort the array\n",
    "        return index # result array with original elements and sorted indices\n",
    "    else:\n",
    "        return 'no item found'"
   ]
  },
  {
   "cell_type": "code",
   "execution_count": 70,
   "id": "97282374",
   "metadata": {},
   "outputs": [
    {
     "name": "stdout",
     "output_type": "stream",
     "text": [
      "[2 3 4 5 6 8 1 7 9 0]\n",
      "no item found\n"
     ]
    }
   ],
   "source": [
    "arr = np.array([3, 8, 7, 7, 7, 7, 7, 8, 7, 10])\n",
    "\n",
    "print(foo_1(arr, 7))\n",
    "\n",
    "print(foo_1(arr, 11))"
   ]
  },
  {
   "cell_type": "markdown",
   "id": "67d10aa5",
   "metadata": {},
   "source": [
    "Import NumPy: import numpy as np imports the NumPy library and gives it the alias np for convenience.\n",
    "\n",
    "Function Definition: The foo_1 function takes two parameters - arr (NumPy array) and target (the target value to find in the array).\n",
    "\n",
    "Check if Target in Array: The if target in arr statement checks whether the target value is present in the array. If it is, the function proceeds; otherwise, it returns the string 'no item found'.\n",
    "\n",
    "Calculate Absolute Differences: x = np.abs(arr - target) calculates the absolute differences between each element in the array arr and the target value.\n",
    "\n",
    "Sort Indices: index = np.argsort(x) returns the indices that would sort the array x in ascending order.\n",
    "\n",
    "Create Result Array: result = np.array(list(zip(arr[index], index))) creates a result array by zipping the original array elements at the sorted indices. The result is a 2D array where the first column contains the original array elements, and the second column contains the corresponding sorted indices.\n",
    "\n",
    "Return Result: The function returns the result array if the target is found in the array; otherwise, it returns the string 'no item found'."
   ]
  },
  {
   "cell_type": "code",
   "execution_count": 71,
   "id": "20f47868",
   "metadata": {},
   "outputs": [],
   "source": [
    "def count_nonzero_custom(arr, axis):\n",
    "    if axis is None:\n",
    "        return np.sum(arr == 0) # If axis is None, count non-zero elements in the entire array\n",
    "    else:\n",
    "        # If axis is specified, use apply_along_axis to count non-zero elements along that axis\n",
    "        return np.apply_along_axis(lambda x: np.sum(x != 0), axis, arr) \n",
    "\n",
    "def foo_2(arr, axis=None):\n",
    "    non_zero_count = count_nonzero_custom(arr, axis) # Call the helper function to get the count of non-zero elements\n",
    "    if isinstance(non_zero_count, int): # If the result is an integer (axis=None), convert it to a list\n",
    "        non_zero_count = [non_zero_count]\n",
    "    return non_zero_count # Return the result, which is a list or an array containing the count of non-zero elements"
   ]
  },
  {
   "cell_type": "markdown",
   "id": "02855382",
   "metadata": {},
   "source": [
    "count_nonzero_custom Function:\n",
    "\n",
    "This function takes a NumPy array arr and an axis as parameters.\n",
    "If axis is None, it calculates the total count of zero elements in the entire array using np.sum(arr == 0).\n",
    "If axis is specified, it uses np.apply_along_axis to apply a lambda function that counts non-zero elements along the specified axis. \n",
    "The lambda function calculates the sum of elements that are not equal to zero along the specified axis.\n",
    "\n",
    "foo_2 Function:\n",
    "\n",
    "It calls the count_nonzero_custom function to calculate the count of non-zero elements based on the specified axis.\n",
    "If the result is an integer (when axis is None), it converts it to a list.\n",
    "It returns the result, which is a list or an array containing the count of non-zero elements along the specified axis."
   ]
  },
  {
   "cell_type": "code",
   "execution_count": 72,
   "id": "475646da",
   "metadata": {},
   "outputs": [
    {
     "data": {
      "text/plain": [
       "array([2, 2, 2, 1])"
      ]
     },
     "execution_count": 72,
     "metadata": {},
     "output_type": "execute_result"
    }
   ],
   "source": [
    "arr = np.array([[1, 2, 3, 4],\n",
    "                [0, 5, 0, 0],\n",
    "                [2, 0, 1, 0]])\n",
    "\n",
    "foo_2(arr, axis = 0)"
   ]
  },
  {
   "cell_type": "code",
   "execution_count": 73,
   "id": "cc205aa1",
   "metadata": {},
   "outputs": [
    {
     "data": {
      "text/plain": [
       "array([[4, 1, 2],\n",
       "       [2, 1, 4]])"
      ]
     },
     "execution_count": 73,
     "metadata": {},
     "output_type": "execute_result"
    }
   ],
   "source": [
    "arr1 = np.array([[[1, 2, 3, 4], [0, 5, 0, 0], [2, 0, 1, 0]],\n",
    "                 [[2, 0, 1, 0], [0, 5, 0, 0], [1, 2, 3, 4]]])\n",
    "foo_2(arr1 , axis = 2)"
   ]
  },
  {
   "cell_type": "code",
   "execution_count": 74,
   "id": "cd09730e",
   "metadata": {},
   "outputs": [],
   "source": [
    "def foo_marks(scores):\n",
    "    x = np.any(scores > 90, axis=1)\n",
    "    result = scores[x]\n",
    "    return result"
   ]
  },
  {
   "cell_type": "code",
   "execution_count": 75,
   "id": "a611da8e",
   "metadata": {},
   "outputs": [],
   "source": [
    "student_score = np.array([[85, 89, 88],\n",
    "                 [78, 89, 94],\n",
    "                 [91, 87, 90],\n",
    "                 [87, 95, 84]])"
   ]
  },
  {
   "cell_type": "code",
   "execution_count": 76,
   "id": "b0e2a03c",
   "metadata": {},
   "outputs": [
    {
     "data": {
      "text/plain": [
       "array([[78, 89, 94],\n",
       "       [91, 87, 90],\n",
       "       [87, 95, 84]])"
      ]
     },
     "execution_count": 76,
     "metadata": {},
     "output_type": "execute_result"
    }
   ],
   "source": [
    "foo_marks(student_score)"
   ]
  },
  {
   "cell_type": "markdown",
   "id": "df07db1f",
   "metadata": {},
   "source": [
    "np.any(scores > 90, axis=1):\n",
    "\n",
    "This line creates a boolean array x by using NumPy's any function along axis=1. It checks for each row (student) whether there is any score greater than 90 in any subject. The resulting boolean array has True where the condition is met (at least one subject score is greater than 90) and False otherwise.\n",
    "\n",
    "result = scores[x]:\n",
    "\n",
    "This line creates a subset of the original array scores by using the boolean array x as a mask. It selects only those rows (students) where the corresponding element in x is True. In other words, it includes only the rows where at least one subject score is above 90.\n",
    "Return Result:\n",
    "\n",
    "The function returns the resulting array, which includes only those rows (students) where at least one subject score is above 90."
   ]
  },
  {
   "cell_type": "code",
   "execution_count": 77,
   "id": "c259642c",
   "metadata": {},
   "outputs": [],
   "source": [
    "def foo(sales_data):\n",
    "    sd = {}\n",
    "    for x, y in enumerate(sales_data):\n",
    "        mean_sales = np.mean(y)\n",
    "        median_sales = np.median(y)\n",
    "        std_dev_sales = np.std(y)\n",
    "        highest_sales_month = np.argmax(y) + 1\n",
    "        sd[x + 1] = {\n",
    "            'mean': mean_sales,\n",
    "            'median': median_sales,\n",
    "            'std_dev': std_dev_sales,\n",
    "            'highest_sales_month': highest_sales_month\n",
    "        }\n",
    "    return sd"
   ]
  },
  {
   "cell_type": "markdown",
   "id": "64751711",
   "metadata": {},
   "source": [
    "Initialize an Empty Dictionary sd:\n",
    "\n",
    "sd = {} initializes an empty dictionary sd to store the calculated statistics for each product.\n",
    "\n",
    "Iterate Over Each Row (Product) in sales_data:\n",
    "\n",
    "for x, y in enumerate(sales_data): uses the enumerate function to iterate over each row (y) in sales_data. The variable x represents the index of the current row (product).\n",
    "\n",
    "Calculate Statistics for Each Product:\n",
    "\n",
    "Inside the loop, the following statistics are calculated for each product (row):\n",
    "mean_sales: The mean of sales for the current product (np.mean(y)).\n",
    "median_sales: The median of sales for the current product (np.median(y)).\n",
    "std_dev_sales: The standard deviation of sales for the current product (np.std(y)).\n",
    "highest_sales_month: The month with the highest sales for the current product (np.argmax(y) + 1 to convert to 1-based indexing).\n",
    "\n",
    "Store Results in the Dictionary sd:\n",
    "\n",
    "The calculated statistics for each product are stored in the dictionary sd. The key is the product index (x + 1 to convert to 1-based indexing), and the value is another dictionary containing the calculated statistics.\n",
    "Return the Resulting Dictionary sd:\n",
    "\n",
    "The function returns the final dictionary sd containing statistics for each product."
   ]
  },
  {
   "cell_type": "code",
   "execution_count": 78,
   "id": "b0210077",
   "metadata": {},
   "outputs": [],
   "source": [
    "sales_data=np.array([[120, 150, 130, 110],\n",
    "                    [200, 180, 220, 250],\n",
    "                    [90, 100, 95, 110],\n",
    "                    [300,280,320, 340]])"
   ]
  },
  {
   "cell_type": "code",
   "execution_count": 79,
   "id": "39d5d0b4",
   "metadata": {},
   "outputs": [
    {
     "data": {
      "text/plain": [
       "{1: {'mean': 127.5,\n",
       "  'median': 125.0,\n",
       "  'std_dev': 14.79019945774904,\n",
       "  'highest_sales_month': 2},\n",
       " 2: {'mean': 212.5,\n",
       "  'median': 210.0,\n",
       "  'std_dev': 25.8602010819715,\n",
       "  'highest_sales_month': 4},\n",
       " 3: {'mean': 98.75,\n",
       "  'median': 97.5,\n",
       "  'std_dev': 7.39509972887452,\n",
       "  'highest_sales_month': 4},\n",
       " 4: {'mean': 310.0,\n",
       "  'median': 310.0,\n",
       "  'std_dev': 22.360679774997898,\n",
       "  'highest_sales_month': 4}}"
      ]
     },
     "execution_count": 79,
     "metadata": {},
     "output_type": "execute_result"
    }
   ],
   "source": [
    "foo(sales_data)"
   ]
  },
  {
   "cell_type": "code",
   "execution_count": 80,
   "id": "43505707",
   "metadata": {},
   "outputs": [],
   "source": [
    "def freq(x):\n",
    "    unique_values, counts = np.unique(x, return_counts=True)\n",
    "    sorted = np.argsort(-counts)\n",
    "    top_10_values = unique_values[sorted[:10]] # top 10 unique values are extracted based on the sorted indices\n",
    "    top_10_counts = counts[sorted[:10]] # corresponding counts for the top 10 values are also extracted based on the sorted indices\n",
    "    print(\"Top 10 most frequently occurring values:\")\n",
    "    for value, count in zip(top_10_values, top_10_counts):\n",
    "        print(f\"Value: {value}, Occurrences: {count}\")"
   ]
  },
  {
   "cell_type": "markdown",
   "id": "c0f68025",
   "metadata": {},
   "source": [
    "unique_values, counts = np.unique(x, return_counts=True):\n",
    "\n",
    "This line uses NumPy's unique function to find the unique values in the array x along with their counts.\n",
    "\n",
    "sorted_indices = np.argsort(-counts):\n",
    "\n",
    "The indices are sorted in descending order based on the counts using argsort. The negative sign (-) is used to sort in descending order."
   ]
  },
  {
   "cell_type": "code",
   "execution_count": 81,
   "id": "fa6e796d",
   "metadata": {},
   "outputs": [],
   "source": [
    "x=np.random.randint(1,100,1000)"
   ]
  },
  {
   "cell_type": "code",
   "execution_count": 82,
   "id": "2e8bed8b",
   "metadata": {},
   "outputs": [
    {
     "name": "stdout",
     "output_type": "stream",
     "text": [
      "Top 10 most frequently occurring values:\n",
      "Value: 4, Occurrences: 19\n",
      "Value: 45, Occurrences: 18\n",
      "Value: 80, Occurrences: 17\n",
      "Value: 93, Occurrences: 16\n",
      "Value: 59, Occurrences: 16\n",
      "Value: 20, Occurrences: 15\n",
      "Value: 52, Occurrences: 15\n",
      "Value: 9, Occurrences: 15\n",
      "Value: 21, Occurrences: 15\n",
      "Value: 46, Occurrences: 14\n"
     ]
    }
   ],
   "source": [
    "freq(x)"
   ]
  }
 ],
 "metadata": {
  "kernelspec": {
   "display_name": "Python 3 (ipykernel)",
   "language": "python",
   "name": "python3"
  },
  "language_info": {
   "codemirror_mode": {
    "name": "ipython",
    "version": 3
   },
   "file_extension": ".py",
   "mimetype": "text/x-python",
   "name": "python",
   "nbconvert_exporter": "python",
   "pygments_lexer": "ipython3",
   "version": "3.11.5"
  }
 },
 "nbformat": 4,
 "nbformat_minor": 5
}

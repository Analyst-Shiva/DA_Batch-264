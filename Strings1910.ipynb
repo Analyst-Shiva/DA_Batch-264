{
 "cells": [
  {
   "cell_type": "markdown",
   "id": "29861f2c",
   "metadata": {},
   "source": [
    "# Strings\n",
    "\n",
    "## String methods are used to manipulate and work with strings in programming, string is a sequence of characters enclosed within either single quotes (''), double quotes (\" \"), or triple quotes (''' or \"\"\"), it is used to represent textual data, and are Immutable."
   ]
  },
  {
   "cell_type": "code",
   "execution_count": 1,
   "id": "466d305a",
   "metadata": {},
   "outputs": [
    {
     "data": {
      "text/plain": [
       "['__add__',\n",
       " '__class__',\n",
       " '__contains__',\n",
       " '__delattr__',\n",
       " '__dir__',\n",
       " '__doc__',\n",
       " '__eq__',\n",
       " '__format__',\n",
       " '__ge__',\n",
       " '__getattribute__',\n",
       " '__getitem__',\n",
       " '__getnewargs__',\n",
       " '__getstate__',\n",
       " '__gt__',\n",
       " '__hash__',\n",
       " '__init__',\n",
       " '__init_subclass__',\n",
       " '__iter__',\n",
       " '__le__',\n",
       " '__len__',\n",
       " '__lt__',\n",
       " '__mod__',\n",
       " '__mul__',\n",
       " '__ne__',\n",
       " '__new__',\n",
       " '__reduce__',\n",
       " '__reduce_ex__',\n",
       " '__repr__',\n",
       " '__rmod__',\n",
       " '__rmul__',\n",
       " '__setattr__',\n",
       " '__sizeof__',\n",
       " '__str__',\n",
       " '__subclasshook__',\n",
       " 'capitalize',\n",
       " 'casefold',\n",
       " 'center',\n",
       " 'count',\n",
       " 'encode',\n",
       " 'endswith',\n",
       " 'expandtabs',\n",
       " 'find',\n",
       " 'format',\n",
       " 'format_map',\n",
       " 'index',\n",
       " 'isalnum',\n",
       " 'isalpha',\n",
       " 'isascii',\n",
       " 'isdecimal',\n",
       " 'isdigit',\n",
       " 'isidentifier',\n",
       " 'islower',\n",
       " 'isnumeric',\n",
       " 'isprintable',\n",
       " 'isspace',\n",
       " 'istitle',\n",
       " 'isupper',\n",
       " 'join',\n",
       " 'ljust',\n",
       " 'lower',\n",
       " 'lstrip',\n",
       " 'maketrans',\n",
       " 'partition',\n",
       " 'removeprefix',\n",
       " 'removesuffix',\n",
       " 'replace',\n",
       " 'rfind',\n",
       " 'rindex',\n",
       " 'rjust',\n",
       " 'rpartition',\n",
       " 'rsplit',\n",
       " 'rstrip',\n",
       " 'split',\n",
       " 'splitlines',\n",
       " 'startswith',\n",
       " 'strip',\n",
       " 'swapcase',\n",
       " 'title',\n",
       " 'translate',\n",
       " 'upper',\n",
       " 'zfill']"
      ]
     },
     "execution_count": 1,
     "metadata": {},
     "output_type": "execute_result"
    }
   ],
   "source": [
    "dir(str) # Following are methods of Strings in python"
   ]
  },
  {
   "cell_type": "code",
   "execution_count": 3,
   "id": "7aa330cd",
   "metadata": {},
   "outputs": [
    {
     "name": "stdout",
     "output_type": "stream",
     "text": [
      "Help on method_descriptor:\n",
      "\n",
      "capitalize(self, /)\n",
      "    Return a capitalized version of the string.\n",
      "    \n",
      "    More specifically, make the first character have upper case and the rest lower\n",
      "    case.\n",
      "\n"
     ]
    }
   ],
   "source": [
    "help(str.capitalize) # using help function we can know the description of capitalize method in sting"
   ]
  },
  {
   "cell_type": "markdown",
   "id": "9dda24eb",
   "metadata": {},
   "source": [
    "## Capitalize()\n",
    "\n",
    "### The capitalize() method is used to capitalize the first character into upper case and the rest lowercase.\n",
    "\n",
    "Example:"
   ]
  },
  {
   "cell_type": "code",
   "execution_count": 5,
   "id": "7fbf4417",
   "metadata": {},
   "outputs": [
    {
     "name": "stdout",
     "output_type": "stream",
     "text": [
      "Original String: hey this is shiva\n",
      "Capitalized String: Hey this is shiva\n"
     ]
    }
   ],
   "source": [
    "original_string = \"hey this is shiva\"\n",
    "capitalized_string = original_string.capitalize()\n",
    "\n",
    "print(\"Original String:\", original_string)\n",
    "print(\"Capitalized String:\", capitalized_string)"
   ]
  },
  {
   "cell_type": "code",
   "execution_count": 7,
   "id": "d99e944d",
   "metadata": {},
   "outputs": [
    {
     "name": "stdout",
     "output_type": "stream",
     "text": [
      "Help on method_descriptor:\n",
      "\n",
      "casefold(self, /)\n",
      "    Return a version of the string suitable for caseless comparisons.\n",
      "\n"
     ]
    }
   ],
   "source": [
    "help(str.casefold)"
   ]
  },
  {
   "cell_type": "markdown",
   "id": "ecf821e4",
   "metadata": {},
   "source": [
    "## Casefold()\n",
    "\n",
    "### The casefold() method is used to perform a case-folding operation on a string, which is similar to converting the string to lowercase.\n",
    "\n",
    "Example:"
   ]
  },
  {
   "cell_type": "code",
   "execution_count": 22,
   "id": "739e2569",
   "metadata": {},
   "outputs": [
    {
     "data": {
      "text/plain": [
       "'shivä'"
      ]
     },
     "execution_count": 22,
     "metadata": {},
     "output_type": "execute_result"
    }
   ],
   "source": [
    "text = \"ShivÄ\"\n",
    "text.casefold()"
   ]
  },
  {
   "cell_type": "code",
   "execution_count": 23,
   "id": "1bd04f9a",
   "metadata": {},
   "outputs": [
    {
     "name": "stdout",
     "output_type": "stream",
     "text": [
      "Help on method_descriptor:\n",
      "\n",
      "count(...)\n",
      "    S.count(sub[, start[, end]]) -> int\n",
      "    \n",
      "    Return the number of non-overlapping occurrences of substring sub in\n",
      "    string S[start:end].  Optional arguments start and end are\n",
      "    interpreted as in slice notation.\n",
      "\n"
     ]
    }
   ],
   "source": [
    "help(str.count)"
   ]
  },
  {
   "cell_type": "markdown",
   "id": "e00f6224",
   "metadata": {},
   "source": [
    "## Count\n",
    "### The count method is used to count the number of occurrences of a specified element in a list or another iterable, such as a string.\n",
    "\n",
    "Example:"
   ]
  },
  {
   "cell_type": "code",
   "execution_count": 1,
   "id": "eb302d5e",
   "metadata": {},
   "outputs": [
    {
     "name": "stdout",
     "output_type": "stream",
     "text": [
      "Number of twos in the list: 4\n"
     ]
    }
   ],
   "source": [
    "my_list = [1, 2, 2, 3, 4, 2, 5, 2]\n",
    "count_of_twos = my_list.count(2)\n",
    "print(\"Number of twos in the list:\", count_of_twos)  # Example 1 using Numericals"
   ]
  },
  {
   "cell_type": "code",
   "execution_count": 13,
   "id": "9416b2e9",
   "metadata": {},
   "outputs": [
    {
     "name": "stdout",
     "output_type": "stream",
     "text": [
      "Number of 'o's in the string: 4\n"
     ]
    }
   ],
   "source": [
    "my_string = \"Shiva, how are you doing today?\"\n",
    "count_of_letter_o = my_string.count(\"o\")\n",
    "print(\"Number of 'o's in the string:\", count_of_letter_o) # Example 2 using String"
   ]
  },
  {
   "cell_type": "code",
   "execution_count": 3,
   "id": "b1f37307",
   "metadata": {},
   "outputs": [
    {
     "name": "stdout",
     "output_type": "stream",
     "text": [
      "Help on method_descriptor:\n",
      "\n",
      "find(...)\n",
      "    S.find(sub[, start[, end]]) -> int\n",
      "    \n",
      "    Return the lowest index in S where substring sub is found,\n",
      "    such that sub is contained within S[start:end].  Optional\n",
      "    arguments start and end are interpreted as in slice notation.\n",
      "    \n",
      "    Return -1 on failure.\n",
      "\n"
     ]
    }
   ],
   "source": [
    "help(str.find)"
   ]
  },
  {
   "cell_type": "markdown",
   "id": "7093be3d",
   "metadata": {},
   "source": [
    "## find()\n",
    "### The find method is used to search for a substring within a string. This method returns the index of the first occurrence of the substring if it is found, and -1 if the substring is not present in the string.\n",
    "\n",
    "<!-- string: The string in which you want to search for the substring.\n",
    "substring: The substring you want to find within the string.\n",
    "start (optional): The index from which the search should begin. It's 0 by default.\n",
    "end (optional): The index at which the search should end. It's the length of the string by default. -->\n",
    "\n",
    "Example:"
   ]
  },
  {
   "cell_type": "code",
   "execution_count": 6,
   "id": "34434128",
   "metadata": {},
   "outputs": [
    {
     "name": "stdout",
     "output_type": "stream",
     "text": [
      "10\n"
     ]
    }
   ],
   "source": [
    "text = \"This is a sample string.\"\n",
    "substring = \"sample\"\n",
    "\n",
    "# Find the index of the first occurrence of \"sample\" in the text\n",
    "index = text.find(substring)\n",
    "print(index)"
   ]
  },
  {
   "cell_type": "code",
   "execution_count": 7,
   "id": "8a83cb93",
   "metadata": {},
   "outputs": [
    {
     "name": "stdout",
     "output_type": "stream",
     "text": [
      "Help on method_descriptor:\n",
      "\n",
      "index(...)\n",
      "    S.index(sub[, start[, end]]) -> int\n",
      "    \n",
      "    Return the lowest index in S where substring sub is found,\n",
      "    such that sub is contained within S[start:end].  Optional\n",
      "    arguments start and end are interpreted as in slice notation.\n",
      "    \n",
      "    Raises ValueError when the substring is not found.\n",
      "\n"
     ]
    }
   ],
   "source": [
    "help(str.index)"
   ]
  },
  {
   "cell_type": "markdown",
   "id": "6f6c7eff",
   "metadata": {},
   "source": [
    "## Index()\n",
    "### The index method is used to find the position of the first occurrence of a specified element within a sequence, If the element is not found, it raises a ValueError exception.\n",
    "\n",
    "Example:"
   ]
  },
  {
   "cell_type": "code",
   "execution_count": 8,
   "id": "bba23926",
   "metadata": {},
   "outputs": [
    {
     "name": "stdout",
     "output_type": "stream",
     "text": [
      "1\n"
     ]
    }
   ],
   "source": [
    "my_list = [10, 20, 30, 40, 20]\n",
    "index = my_list.index(20)\n",
    "print(index)"
   ]
  },
  {
   "cell_type": "code",
   "execution_count": 9,
   "id": "6273f65e",
   "metadata": {},
   "outputs": [
    {
     "ename": "ValueError",
     "evalue": "50 is not in list",
     "output_type": "error",
     "traceback": [
      "\u001b[1;31m---------------------------------------------------------------------------\u001b[0m",
      "\u001b[1;31mValueError\u001b[0m                                Traceback (most recent call last)",
      "Cell \u001b[1;32mIn[9], line 3\u001b[0m\n\u001b[0;32m      1\u001b[0m my_list \u001b[38;5;241m=\u001b[39m [\u001b[38;5;241m10\u001b[39m, \u001b[38;5;241m20\u001b[39m, \u001b[38;5;241m30\u001b[39m, \u001b[38;5;241m40\u001b[39m, \u001b[38;5;241m20\u001b[39m]\n\u001b[0;32m      2\u001b[0m element \u001b[38;5;241m=\u001b[39m \u001b[38;5;241m50\u001b[39m\n\u001b[1;32m----> 3\u001b[0m index \u001b[38;5;241m=\u001b[39m my_list\u001b[38;5;241m.\u001b[39mindex(element)\n",
      "\u001b[1;31mValueError\u001b[0m: 50 is not in list"
     ]
    }
   ],
   "source": [
    "my_list = [10, 20, 30, 40, 20]\n",
    "element = 50\n",
    "index = my_list.index(element)"
   ]
  },
  {
   "cell_type": "code",
   "execution_count": 11,
   "id": "01a21c32",
   "metadata": {},
   "outputs": [
    {
     "name": "stdout",
     "output_type": "stream",
     "text": [
      "Help on method_descriptor:\n",
      "\n",
      "partition(self, sep, /)\n",
      "    Partition the string into three parts using the given separator.\n",
      "    \n",
      "    This will search for the separator in the string.  If the separator is found,\n",
      "    returns a 3-tuple containing the part before the separator, the separator\n",
      "    itself, and the part after it.\n",
      "    \n",
      "    If the separator is not found, returns a 3-tuple containing the original string\n",
      "    and two empty strings.\n",
      "\n"
     ]
    }
   ],
   "source": [
    "help(str.partition)"
   ]
  },
  {
   "cell_type": "markdown",
   "id": "ca31583d",
   "metadata": {},
   "source": [
    "## Partition()\n",
    "### Partition method is used to split a string into three parts based on the occurrence of a specified substring.\n",
    "\n",
    "Example:"
   ]
  },
  {
   "cell_type": "code",
   "execution_count": 14,
   "id": "9bee384d",
   "metadata": {},
   "outputs": [
    {
     "name": "stdout",
     "output_type": "stream",
     "text": [
      "('My name ', 'is', ' Shiva, Joined at Innomatics')\n"
     ]
    }
   ],
   "source": [
    "text = \"My name is Shiva, Joined at Innomatics\"\n",
    "result = text.partition(\"is\")\n",
    "\n",
    "print(result)"
   ]
  },
  {
   "cell_type": "code",
   "execution_count": 15,
   "id": "e31f7281",
   "metadata": {},
   "outputs": [
    {
     "name": "stdout",
     "output_type": "stream",
     "text": [
      "Help on method_descriptor:\n",
      "\n",
      "replace(self, old, new, count=-1, /)\n",
      "    Return a copy with all occurrences of substring old replaced by new.\n",
      "    \n",
      "      count\n",
      "        Maximum number of occurrences to replace.\n",
      "        -1 (the default value) means replace all occurrences.\n",
      "    \n",
      "    If the optional argument count is given, only the first count occurrences are\n",
      "    replaced.\n",
      "\n"
     ]
    }
   ],
   "source": [
    "help(str.replace)"
   ]
  },
  {
   "cell_type": "markdown",
   "id": "a82dc1b2",
   "metadata": {},
   "source": [
    "## Replace()\n",
    "###  replace method to replace occurrences of a substring in a string with another substring.\n",
    "\n",
    "Example:"
   ]
  },
  {
   "cell_type": "code",
   "execution_count": 16,
   "id": "54f471c6",
   "metadata": {},
   "outputs": [
    {
     "name": "stdout",
     "output_type": "stream",
     "text": [
      "I love programming in Java. Java is great!\n"
     ]
    }
   ],
   "source": [
    "original_string = \"I love programming in Python. Python is great!\"\n",
    "new_string = original_string.replace(\"Python\", \"Java\")\n",
    "print(new_string)"
   ]
  },
  {
   "cell_type": "code",
   "execution_count": 17,
   "id": "056e5318",
   "metadata": {},
   "outputs": [
    {
     "name": "stdout",
     "output_type": "stream",
     "text": [
      "Java is easy to learn. Java is powerful. Python is versatile.\n"
     ]
    }
   ],
   "source": [
    "original_string = \"Python is easy to learn. Python is powerful. Python is versatile.\"\n",
    "new_string = original_string.replace(\"Python\", \"Java\", 2)\n",
    "print(new_string)"
   ]
  },
  {
   "cell_type": "code",
   "execution_count": 18,
   "id": "44b7d884",
   "metadata": {},
   "outputs": [
    {
     "name": "stdout",
     "output_type": "stream",
     "text": [
      "Help on method_descriptor:\n",
      "\n",
      "split(self, /, sep=None, maxsplit=-1)\n",
      "    Return a list of the substrings in the string, using sep as the separator string.\n",
      "    \n",
      "      sep\n",
      "        The separator used to split the string.\n",
      "    \n",
      "        When set to None (the default value), will split on any whitespace\n",
      "        character (including \\\\n \\\\r \\\\t \\\\f and spaces) and will discard\n",
      "        empty strings from the result.\n",
      "      maxsplit\n",
      "        Maximum number of splits (starting from the left).\n",
      "        -1 (the default value) means no limit.\n",
      "    \n",
      "    Note, str.split() is mainly useful for data that has been intentionally\n",
      "    delimited.  With natural text that includes punctuation, consider using\n",
      "    the regular expression module.\n",
      "\n"
     ]
    }
   ],
   "source": [
    "help(str.split)"
   ]
  },
  {
   "cell_type": "markdown",
   "id": "761e20d3",
   "metadata": {},
   "source": [
    "## Split()\n",
    "### split method is a built-in string method used to split a string into a list of substrings based on a specified delimiter. The delimiter is typically a character or a sequence of characters used to identify where the string should be split.\n",
    "\n",
    "Example:"
   ]
  },
  {
   "cell_type": "code",
   "execution_count": 23,
   "id": "fc53281d",
   "metadata": {},
   "outputs": [
    {
     "name": "stdout",
     "output_type": "stream",
     "text": [
      "['Shiva', 'Ram']\n",
      "['Shiva', 'Arun', 'Joshi', 'Pravallika', 'Architha']\n",
      "['Shiva', 'Arun', 'Joshi Pravallika Architha']\n",
      "Shiva\n",
      "Arun Joshi Pravallika Architha\n"
     ]
    }
   ],
   "source": [
    "# Using the default separator (whitespace)\n",
    "text = \"Shiva Ram\"\n",
    "words = text.split()\n",
    "print(words)\n",
    "\n",
    "# Using a specific separator\n",
    "csv_data = \"Shiva,Arun,Joshi,Pravallika,Architha\"\n",
    "names = csv_data.split(',')\n",
    "print(names)\n",
    "\n",
    "# Limiting the number of splits\n",
    "text = \"Shiva Arun Joshi Pravallika Architha\"\n",
    "names = text.split(' ', 2)\n",
    "print(names)\n",
    "\n",
    "# Using maxsplit = 1\n",
    "text = \"Shiva Arun Joshi Pravallika Architha\"\n",
    "first_name, remaining = text.split(' ', 1)\n",
    "print(first_name)\n",
    "print(remaining)"
   ]
  },
  {
   "cell_type": "code",
   "execution_count": 22,
   "id": "b145ec23",
   "metadata": {},
   "outputs": [
    {
     "name": "stdout",
     "output_type": "stream",
     "text": [
      "Help on method_descriptor:\n",
      "\n",
      "splitlines(self, /, keepends=False)\n",
      "    Return a list of the lines in the string, breaking at line boundaries.\n",
      "    \n",
      "    Line breaks are not included in the resulting list unless keepends is given and\n",
      "    true.\n",
      "\n"
     ]
    }
   ],
   "source": [
    "help(str.splitlines)"
   ]
  },
  {
   "cell_type": "markdown",
   "id": "a0009b55",
   "metadata": {},
   "source": [
    "## Splitlines()\n",
    "### splitlines() method is used to split a string into a list of lines. Each line is represented as a separate element in the resulting list. This method is particularly useful when working with text data that contains multiple lines, such as a multiline string or the contents of a text file.\n",
    "\n",
    "Example:"
   ]
  },
  {
   "cell_type": "code",
   "execution_count": 36,
   "id": "1b3d93c8",
   "metadata": {},
   "outputs": [
    {
     "name": "stdout",
     "output_type": "stream",
     "text": [
      "['This is a sample', 'multiline string.', 'With three lines.']\n"
     ]
    }
   ],
   "source": [
    "text = \"This is a sample\\nmultiline string.\\nWith three lines.\"\n",
    "lines = text.splitlines()\n",
    "print(lines)"
   ]
  },
  {
   "cell_type": "code",
   "execution_count": 37,
   "id": "f61aec60",
   "metadata": {},
   "outputs": [
    {
     "name": "stdout",
     "output_type": "stream",
     "text": [
      "['This is a sample\\n', 'multiline string.\\n', 'With three lines.']\n"
     ]
    }
   ],
   "source": [
    "text = \"This is a sample\\nmultiline string.\\nWith three lines.\"\n",
    "lines = text.splitlines(True)\n",
    "print(lines)"
   ]
  },
  {
   "cell_type": "code",
   "execution_count": 38,
   "id": "2b6cc5e4",
   "metadata": {},
   "outputs": [
    {
     "name": "stdout",
     "output_type": "stream",
     "text": [
      "Help on method_descriptor:\n",
      "\n",
      "swapcase(self, /)\n",
      "    Convert uppercase characters to lowercase and lowercase characters to uppercase.\n",
      "\n"
     ]
    }
   ],
   "source": [
    "help(str.swapcase)"
   ]
  },
  {
   "cell_type": "markdown",
   "id": "d0a7d86f",
   "metadata": {},
   "source": [
    "## Swapcase()\n",
    "### swapcase method is used to change the case of each character in a given string. It converts lowercase characters to uppercase and vice versa while leaving any non-alphabetical characters unchanged.\n",
    "\n",
    "Example:"
   ]
  },
  {
   "cell_type": "code",
   "execution_count": 40,
   "id": "bccf5c0a",
   "metadata": {},
   "outputs": [
    {
     "name": "stdout",
     "output_type": "stream",
     "text": [
      "sHIVA, rAM\n"
     ]
    }
   ],
   "source": [
    "original_string = \"Shiva, Ram\"\n",
    "swapped_string = original_string.swapcase()\n",
    "print(swapped_string)"
   ]
  },
  {
   "cell_type": "code",
   "execution_count": 42,
   "id": "6e4b40a5",
   "metadata": {},
   "outputs": [
    {
     "name": "stdout",
     "output_type": "stream",
     "text": [
      "Help on method_descriptor:\n",
      "\n",
      "title(self, /)\n",
      "    Return a version of the string where each word is titlecased.\n",
      "    \n",
      "    More specifically, words start with uppercased characters and all remaining\n",
      "    cased characters have lower case.\n",
      "\n"
     ]
    }
   ],
   "source": [
    "help(str.title)"
   ]
  },
  {
   "cell_type": "markdown",
   "id": "21b11b78",
   "metadata": {},
   "source": [
    "## title()\n",
    "### title is used to convert a string's first character in each word to uppercase (title case), while converting all other characters to lowercase. It does not modify the original string; instead, it returns a new string with the desired capitalization.\n",
    "\n",
    "Example:"
   ]
  },
  {
   "cell_type": "code",
   "execution_count": 44,
   "id": "b479c53f",
   "metadata": {},
   "outputs": [
    {
     "name": "stdout",
     "output_type": "stream",
     "text": [
      "Shiva Ram\n"
     ]
    }
   ],
   "source": [
    "text = \"shiva ram\"\n",
    "title_text = text.title()\n",
    "\n",
    "print(title_text)"
   ]
  },
  {
   "cell_type": "markdown",
   "id": "f75fe190",
   "metadata": {},
   "source": [
    "# Thank you #"
   ]
  }
 ],
 "metadata": {
  "kernelspec": {
   "display_name": "Python 3 (ipykernel)",
   "language": "python",
   "name": "python3"
  },
  "language_info": {
   "codemirror_mode": {
    "name": "ipython",
    "version": 3
   },
   "file_extension": ".py",
   "mimetype": "text/x-python",
   "name": "python",
   "nbconvert_exporter": "python",
   "pygments_lexer": "ipython3",
   "version": "3.11.5"
  }
 },
 "nbformat": 4,
 "nbformat_minor": 5
}

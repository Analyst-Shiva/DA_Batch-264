{
 "cells": [
  {
   "cell_type": "code",
   "execution_count": 10,
   "id": "e10745d5",
   "metadata": {},
   "outputs": [],
   "source": [
    "import numpy as np"
   ]
  },
  {
   "cell_type": "code",
   "execution_count": 11,
   "id": "999fb0e8",
   "metadata": {},
   "outputs": [],
   "source": [
    "from numpy import genfromtxt"
   ]
  },
  {
   "cell_type": "code",
   "execution_count": 12,
   "id": "0fdab992",
   "metadata": {},
   "outputs": [],
   "source": [
    "fpath = r'C:\\Users\\shiva\\Desktop\\Python 19102023\\train.csv'"
   ]
  },
  {
   "cell_type": "code",
   "execution_count": 13,
   "id": "bc02e44c",
   "metadata": {},
   "outputs": [],
   "source": [
    "data = genfromtxt(fpath, delimiter = ',', skip_header = True)"
   ]
  },
  {
   "cell_type": "code",
   "execution_count": 14,
   "id": "162b1a2f",
   "metadata": {},
   "outputs": [
    {
     "data": {
      "text/plain": [
       "array([[ 1.575     ,  1.225     ,  0.375     , ...,  6.3219385 ,\n",
       "         9.63883   , 10.        ],\n",
       "       [ 1.2375    ,  1.        ,  0.375     , ...,  3.798833  ,\n",
       "         7.654365  , 19.        ],\n",
       "       [ 1.45      ,  1.1625    ,  0.4125    , ...,  7.01650125,\n",
       "         7.257472  , 11.        ],\n",
       "       ...,\n",
       "       [ 1.125     ,  0.9125    ,  0.2875    , ...,  1.984465  ,\n",
       "         3.118445  ,  7.        ],\n",
       "       [ 1.625     ,  1.275     ,  0.4125    , ...,  7.86698625,\n",
       "        10.489315  , 11.        ],\n",
       "       [ 1.5875    ,  1.25      ,  0.3875    , ...,  7.38504475,\n",
       "         8.788345  , 11.        ]])"
      ]
     },
     "execution_count": 14,
     "metadata": {},
     "output_type": "execute_result"
    }
   ],
   "source": [
    "data"
   ]
  },
  {
   "cell_type": "code",
   "execution_count": 7,
   "id": "73f04658",
   "metadata": {},
   "outputs": [
    {
     "data": {
      "text/plain": [
       "(200000, 8)"
      ]
     },
     "execution_count": 7,
     "metadata": {},
     "output_type": "execute_result"
    }
   ],
   "source": [
    "data.shape"
   ]
  },
  {
   "cell_type": "code",
   "execution_count": 32,
   "id": "12d57797",
   "metadata": {},
   "outputs": [
    {
     "name": "stdout",
     "output_type": "stream",
     "text": [
      "The min length given is : 0.0\n",
      "The max length given is : 7.58349125\n"
     ]
    }
   ],
   "source": [
    "length_column = data[:, 0]\n",
    "\n",
    "min_length = np.min(length_column)\n",
    "max_length = np.max(length_column)\n",
    "\n",
    "print(f\"The min length given is : {min_length}\")\n",
    "print(f\"The max length given is : {max_length}\")\n"
   ]
  },
  {
   "cell_type": "code",
   "execution_count": 33,
   "id": "850eabd6",
   "metadata": {},
   "outputs": [
    {
     "name": "stdout",
     "output_type": "stream",
     "text": [
      "Avg weight given is : 23.123436312982403\n"
     ]
    }
   ],
   "source": [
    "weight_column = data[:,3]\n",
    "\n",
    "avg_weight = np.mean(weight_column)\n",
    "\n",
    "print(f\"Avg weight given is :\", avg_weight)"
   ]
  },
  {
   "cell_type": "code",
   "execution_count": 43,
   "id": "bda16df0",
   "metadata": {},
   "outputs": [
    {
     "name": "stdout",
     "output_type": "stream",
     "text": [
      "4\n"
     ]
    }
   ],
   "source": [
    "y = np.mean(data, axis=0)\n",
    "\n",
    "x = np.argmax(y)\n",
    "\n",
    "print(x + 1)"
   ]
  },
  {
   "cell_type": "code",
   "execution_count": 40,
   "id": "93bea82d",
   "metadata": {},
   "outputs": [
    {
     "name": "stdout",
     "output_type": "stream",
     "text": [
      "55336\n"
     ]
    }
   ],
   "source": [
    "height = 2\n",
    "\n",
    "y = data[data[:, height] > 0.4]\n",
    "\n",
    "x = y.shape[0]\n",
    "\n",
    "print(x)"
   ]
  },
  {
   "cell_type": "code",
   "execution_count": 45,
   "id": "d58f22bf",
   "metadata": {},
   "outputs": [
    {
     "data": {
      "text/plain": [
       "1390"
      ]
     },
     "execution_count": 45,
     "metadata": {},
     "output_type": "execute_result"
    }
   ],
   "source": [
    "height = 2  \n",
    "weight = 3  \n",
    "x = data[(data[:, height] > 0.4) & (data[:, weight] > 55)]\n",
    "y = x.shape[0]\n",
    "y\n"
   ]
  },
  {
   "cell_type": "code",
   "execution_count": 47,
   "id": "decdf163",
   "metadata": {},
   "outputs": [
    {
     "name": "stdout",
     "output_type": "stream",
     "text": [
      "Avg weight given is : 1326845.8295214002\n"
     ]
    }
   ],
   "source": [
    "weight_column = data[:,6]\n",
    "avg_weight = np.sum(weight_column)\n",
    "print(f\"Avg weight given is :\", avg_weight)"
   ]
  },
  {
   "cell_type": "code",
   "execution_count": 51,
   "id": "2953999e",
   "metadata": {},
   "outputs": [
    {
     "data": {
      "text/plain": [
       "70333"
      ]
     },
     "execution_count": 51,
     "metadata": {},
     "output_type": "execute_result"
    }
   ],
   "source": [
    "age = 7\n",
    "v = 5 \n",
    "x = data[(data[:, age] < 11) & (data[:, v] < 4)]\n",
    "y = x.shape[0]\n",
    "y"
   ]
  },
  {
   "cell_type": "code",
   "execution_count": 50,
   "id": "09386855",
   "metadata": {},
   "outputs": [
    {
     "name": "stdout",
     "output_type": "stream",
     "text": [
      "0.41489902051107985\n"
     ]
    }
   ],
   "source": [
    "age = 7  \n",
    "height = 2 \n",
    "x = data[(data[:, age] >= 14) & (data[:, age] <= 19)]\n",
    "y = np.mean(x[:, height])\n",
    "print(y)"
   ]
  }
 ],
 "metadata": {
  "kernelspec": {
   "display_name": "Python 3 (ipykernel)",
   "language": "python",
   "name": "python3"
  },
  "language_info": {
   "codemirror_mode": {
    "name": "ipython",
    "version": 3
   },
   "file_extension": ".py",
   "mimetype": "text/x-python",
   "name": "python",
   "nbconvert_exporter": "python",
   "pygments_lexer": "ipython3",
   "version": "3.11.5"
  }
 },
 "nbformat": 4,
 "nbformat_minor": 5
}

{
 "cells": [
  {
   "cell_type": "markdown",
   "id": "29cc7d1d",
   "metadata": {},
   "source": [
    "# 1E.Create a function that takes an array of values resistance that are connected in series, and calculates the total resistance of the circuit in ohms. \n",
    "### The ohm is the standard unit of electrical resistance in the International System of Units ( SI )."
   ]
  },
  {
   "cell_type": "code",
   "execution_count": 32,
   "id": "66bbb8fd",
   "metadata": {},
   "outputs": [
    {
     "name": "stdout",
     "output_type": "stream",
     "text": [
      "60 in ohms\n"
     ]
    }
   ],
   "source": [
    "resistance = [10, 20, 30]\n",
    "total_of_resistance = 0\n",
    "x = 0\n",
    "while x < len(resistance):\n",
    "    total_of_resistance = total_of_resistance + resistance[x]\n",
    "    x = x + 1\n",
    "print(f\"{total_of_resistance} in ohms\")"
   ]
  },
  {
   "cell_type": "code",
   "execution_count": 26,
   "id": "02f5f66f",
   "metadata": {},
   "outputs": [
    {
     "name": "stdout",
     "output_type": "stream",
     "text": [
      "60 in ohms\n"
     ]
    }
   ],
   "source": [
    "resistance = [10, 20, 30]\n",
    "Sum_of_resistance = 0\n",
    "for r in resistance:\n",
    "    Sum_of_resistance = Sum_of_resistance + r\n",
    "print(f\"{Sum_of_resistance} in ohms\")    "
   ]
  },
  {
   "cell_type": "markdown",
   "id": "042d4aba",
   "metadata": {},
   "source": [
    "# 2E.Create a function which concatenates the number 7 to the end of every chord in a list. Ignore all chords which already end with 7."
   ]
  },
  {
   "cell_type": "code",
   "execution_count": 41,
   "id": "0105fd39",
   "metadata": {},
   "outputs": [
    {
     "name": "stdout",
     "output_type": "stream",
     "text": [
      "['S7', 'H7', 'I#7', 'V#A7']\n"
     ]
    }
   ],
   "source": [
    "chords = ['S', 'H7', 'I#', 'V#A7']\n",
    "x = 0\n",
    "while x < len(chords):\n",
    "    if not chords[x].endswith('7'):\n",
    "        chords[x] = chords[x] + '7'\n",
    "    x = x + 1\n",
    "print(chords)"
   ]
  },
  {
   "cell_type": "code",
   "execution_count": 44,
   "id": "51e03347",
   "metadata": {},
   "outputs": [
    {
     "name": "stdout",
     "output_type": "stream",
     "text": [
      "['S7', 'H7', 'I#7', 'V#A7']\n"
     ]
    }
   ],
   "source": [
    "chords = ['S', 'H7', 'I#', 'V#A7']\n",
    "for i in range(len(chords)):\n",
    "    if not chords[i].endswith(\"7\"):\n",
    "        chords[i] = chords[i] + '7'\n",
    "print(chords)"
   ]
  },
  {
   "cell_type": "markdown",
   "id": "f2293b29",
   "metadata": {},
   "source": [
    "# 3E.Create a function that takes two strings as arguments and returns the number of times the first string (the single character) is found in the second string."
   ]
  },
  {
   "cell_type": "code",
   "execution_count": 51,
   "id": "ade62c24",
   "metadata": {},
   "outputs": [
    {
     "name": "stdout",
     "output_type": "stream",
     "text": [
      "Enter a single character: S\n",
      "Enter a string: ShivaS\n",
      "S found 2 times in ShivaS.\n"
     ]
    }
   ],
   "source": [
    "character = input(\"Enter a single character: \")\n",
    "string = input(\"Enter a string: \")\n",
    "count = 0\n",
    "x = 0\n",
    "while x < len(string):\n",
    "    if string[x] == character:\n",
    "        count = count + 1\n",
    "    x = x + 1\n",
    "print(f\"{character} found {count} times in {string}.\")"
   ]
  },
  {
   "cell_type": "code",
   "execution_count": 53,
   "id": "e8b95356",
   "metadata": {},
   "outputs": [
    {
     "name": "stdout",
     "output_type": "stream",
     "text": [
      "S found 2 times in ShivaS.\n"
     ]
    }
   ],
   "source": [
    "first_string = \"S\"\n",
    "second_string = \"ShivaS\"\n",
    "count = 0\n",
    "for character in second_string:\n",
    "    if character == first_string:\n",
    "        count = count + 1\n",
    "print(f\"{first_string} found {count} times in {second_string}.\")"
   ]
  },
  {
   "cell_type": "markdown",
   "id": "57811927",
   "metadata": {},
   "source": [
    "# 4E.Create a function that takes an array of non-negative integers and strings and return a new array without the strings."
   ]
  },
  {
   "cell_type": "code",
   "execution_count": 56,
   "id": "f74f5307",
   "metadata": {},
   "outputs": [
    {
     "name": "stdout",
     "output_type": "stream",
     "text": [
      "[1, 2]\n"
     ]
    }
   ],
   "source": [
    "array = [1, 2, \"Shiva\", \"Ram\"]\n",
    "new_array = []\n",
    "i = 0\n",
    "while i < len(array):\n",
    "    if isinstance(array[i], int):\n",
    "        new_array.append(array[i])\n",
    "    i += 1\n",
    "print(new_array)"
   ]
  },
  {
   "cell_type": "code",
   "execution_count": 57,
   "id": "f32de7c4",
   "metadata": {},
   "outputs": [
    {
     "name": "stdout",
     "output_type": "stream",
     "text": [
      "[1, 2]\n"
     ]
    }
   ],
   "source": [
    "array = [1, 2, \"Shiva\", \"Ram\"]\n",
    "new_array = []\n",
    "for x in array:\n",
    "    if isinstance(x, int):\n",
    "        new_array.append(x)\n",
    "print(new_array)"
   ]
  },
  {
   "cell_type": "markdown",
   "id": "979c68fb",
   "metadata": {},
   "source": [
    "# 5E.Create a function that takes a string and returns the number (count) of vowels contained within it."
   ]
  },
  {
   "cell_type": "code",
   "execution_count": 60,
   "id": "6c49d90e",
   "metadata": {},
   "outputs": [
    {
     "name": "stdout",
     "output_type": "stream",
     "text": [
      "The number of vowels in the string is 2\n"
     ]
    }
   ],
   "source": [
    "string = \"Shiva\"\n",
    "vowel_count = 0\n",
    "x = 0\n",
    "vowels = \"aeiouAEIOU\"\n",
    "while x < len(string):\n",
    "    if string[x] in vowels:\n",
    "        vowel_count = vowel_count + 1\n",
    "    x = x + 1\n",
    "print(\"The number of vowels in the string is\", vowel_count)"
   ]
  },
  {
   "cell_type": "code",
   "execution_count": 64,
   "id": "c3f46f3f",
   "metadata": {},
   "outputs": [
    {
     "name": "stdout",
     "output_type": "stream",
     "text": [
      "The number of vowels in the string is 2\n"
     ]
    }
   ],
   "source": [
    "string = \"Shiva\"\n",
    "vowel_count = 0\n",
    "vowels = \"aeiouAEIOU\"\n",
    "for charachter in string:\n",
    "    if charachter in vowels:\n",
    "        vowel_count = vowel_count + 1\n",
    "print(\"The number of vowels in the string is\", vowel_count)"
   ]
  },
  {
   "cell_type": "markdown",
   "id": "e2b23c40",
   "metadata": {},
   "source": [
    "# 6E.Create a function that takes a list and finds the integer which appears an odd number of times."
   ]
  },
  {
   "cell_type": "code",
   "execution_count": 78,
   "id": "53aa581d",
   "metadata": {},
   "outputs": [
    {
     "name": "stdout",
     "output_type": "stream",
     "text": [
      "The integer that appears an odd number of times is: 3\n"
     ]
    }
   ],
   "source": [
    "my_list = [4, 3, 2, 3, 1, 4, 2, 4, 1]\n",
    "while len(my_list) > 0:\n",
    "    element = my_list[0]\n",
    "    count = my_list.count(element)\n",
    "    print(f\"The integer that appears an odd number of times is: {count}\")\n",
    "    break"
   ]
  },
  {
   "cell_type": "code",
   "execution_count": 86,
   "id": "d572b541",
   "metadata": {},
   "outputs": [
    {
     "name": "stdout",
     "output_type": "stream",
     "text": [
      "The integer that appears an odd number of times is: 4\n"
     ]
    }
   ],
   "source": [
    "my_list = [4, 3, 2, 3, 1, 4, 2, 4, 1]\n",
    "count = {}\n",
    "for x in my_list:\n",
    "    if x in count:\n",
    "        count[x] = count[x] + 1\n",
    "    else:\n",
    "        count[x] = 1\n",
    "result = None\n",
    "for s, g in count.items():\n",
    "    if g % 2 != 0:\n",
    "        result = s\n",
    "        break\n",
    "print(f\"The integer that appears an odd number of times is: {result}\")"
   ]
  },
  {
   "cell_type": "markdown",
   "id": "e03dccfa",
   "metadata": {},
   "source": [
    "# 7E.Create a function that computes the hamming distance between two strings."
   ]
  },
  {
   "cell_type": "code",
   "execution_count": 88,
   "id": "8eaf0cff",
   "metadata": {},
   "outputs": [
    {
     "name": "stdout",
     "output_type": "stream",
     "text": [
      "The Hamming distance between 'Shiva' and 'Shivo' is 1\n"
     ]
    }
   ],
   "source": [
    "string1 = \"Shiva\"\n",
    "string2 = \"Shivo\"\n",
    "distance = 0\n",
    "i = 0\n",
    "while i < len(str1):\n",
    "    if string1[i] != string2[i]:\n",
    "        distance = distance + 1\n",
    "    i = i + 1\n",
    "print(f\"The Hamming distance between '{str1}' and '{str2}' is {distance}\")"
   ]
  },
  {
   "cell_type": "code",
   "execution_count": 89,
   "id": "66e66de2",
   "metadata": {},
   "outputs": [
    {
     "name": "stdout",
     "output_type": "stream",
     "text": [
      "The Hamming distance between 'Shiva' and 'Shivo' is 1\n"
     ]
    }
   ],
   "source": [
    "string1 = \"Shiva\"\n",
    "string2 = \"Shivo\"\n",
    "distance = 0\n",
    "for i in range(len(string1)):\n",
    "    if string1[i] != string2[i]:\n",
    "        distance = distance + 1\n",
    "print(f\"The Hamming distance between '{str1}' and '{str2}' is {distance}\")"
   ]
  },
  {
   "cell_type": "markdown",
   "id": "4460694e",
   "metadata": {},
   "source": [
    "# 8E. Create a function that takes a list of non-negative integers and strings and return a new list without the strings."
   ]
  },
  {
   "cell_type": "code",
   "execution_count": 90,
   "id": "5027d216",
   "metadata": {},
   "outputs": [
    {
     "name": "stdout",
     "output_type": "stream",
     "text": [
      "['Shiva', 'Ram']\n"
     ]
    }
   ],
   "source": [
    "array = [1, 2, \"Shiva\", \"Ram\"]\n",
    "new_array = []\n",
    "i = 0\n",
    "while i < len(array):\n",
    "    if isinstance(array[i], str):\n",
    "        new_array.append(array[i])\n",
    "    i += 1\n",
    "print(new_array)"
   ]
  },
  {
   "cell_type": "code",
   "execution_count": 91,
   "id": "aeb26162",
   "metadata": {},
   "outputs": [
    {
     "name": "stdout",
     "output_type": "stream",
     "text": [
      "['Shiva', 'Ram']\n"
     ]
    }
   ],
   "source": [
    "array = [1, 2, \"Shiva\", \"Ram\"]\n",
    "new_array = []\n",
    "for x in array:\n",
    "    if isinstance(x, str):\n",
    "        new_array.append(x)\n",
    "print(new_array)"
   ]
  },
  {
   "cell_type": "markdown",
   "id": "5ea5f2c7",
   "metadata": {},
   "source": [
    "# 9E.Create a function that takes a list of strings and integers, and filters out the list so that it returns a list of integers only."
   ]
  },
  {
   "cell_type": "code",
   "execution_count": 95,
   "id": "2df08817",
   "metadata": {},
   "outputs": [
    {
     "name": "stdout",
     "output_type": "stream",
     "text": [
      "[1, 2, 3]\n"
     ]
    }
   ],
   "source": [
    "frnds_list = [1, 'Shiva', 2, 'Arun', 3, 'Joshi']\n",
    "x = 0\n",
    "integers_only = []\n",
    "while x < len(frnds_list):\n",
    "    if isinstance(frnds_list[x], int):\n",
    "        integers_only.append(frnds_list[x])\n",
    "    x = x + 1\n",
    "print(integers_only)"
   ]
  },
  {
   "cell_type": "code",
   "execution_count": 96,
   "id": "5dfc7429",
   "metadata": {},
   "outputs": [
    {
     "name": "stdout",
     "output_type": "stream",
     "text": [
      "[1, 2, 3]\n"
     ]
    }
   ],
   "source": [
    "frnds_list = [1, 'Shiva', 2, 'Arun', 3, 'Joshi']\n",
    "num_list = []\n",
    "for item in frnds_list:\n",
    "    if isinstance(item, int):\n",
    "        num_list.append(item)\n",
    "print(num_list)"
   ]
  },
  {
   "cell_type": "markdown",
   "id": "9e08d901",
   "metadata": {},
   "source": [
    "# 10E.Create a function that counts the number and returns it from the list of cards provided."
   ]
  },
  {
   "cell_type": "code",
   "execution_count": 127,
   "id": "5ba96fee",
   "metadata": {},
   "outputs": [
    {
     "name": "stdout",
     "output_type": "stream",
     "text": [
      "Number of cards: 8\n"
     ]
    }
   ],
   "source": [
    "cards = [2, 'J', 7, 'K', 'Q', 'A', 5, 4]\n",
    "count = 0\n",
    "x = 0\n",
    "while x < len(cards):\n",
    "    count += 1\n",
    "    x += 1\n",
    "print(\"Number of cards:\", count)"
   ]
  },
  {
   "cell_type": "code",
   "execution_count": 130,
   "id": "f482ff27",
   "metadata": {},
   "outputs": [
    {
     "name": "stdout",
     "output_type": "stream",
     "text": [
      "8\n"
     ]
    }
   ],
   "source": [
    "cards = [2, 'J', 7, 'K', 'Q', 'A', 5, 4]\n",
    "count = 0\n",
    "for x in cards:\n",
    "    count += 1\n",
    "print(count)"
   ]
  },
  {
   "cell_type": "markdown",
   "id": "06b34ba2",
   "metadata": {},
   "source": [
    "# 11E.Create a function that takes a list of strings and integers, and filters out the list so that it returns a list of String only."
   ]
  },
  {
   "cell_type": "code",
   "execution_count": 131,
   "id": "4b0ac3f5",
   "metadata": {},
   "outputs": [
    {
     "name": "stdout",
     "output_type": "stream",
     "text": [
      "['Shiva', 'Arun', 'Joshi']\n"
     ]
    }
   ],
   "source": [
    "frnds_list = [1, 'Shiva', 2, 'Arun', 3, 'Joshi']\n",
    "x = 0\n",
    "integers_only = []\n",
    "while x < len(frnds_list):\n",
    "    if isinstance(frnds_list[x], str):\n",
    "        integers_only.append(frnds_list[x])\n",
    "    x = x + 1\n",
    "print(integers_only)"
   ]
  },
  {
   "cell_type": "code",
   "execution_count": 132,
   "id": "90aec069",
   "metadata": {},
   "outputs": [
    {
     "name": "stdout",
     "output_type": "stream",
     "text": [
      "['Shiva', 'Arun', 'Joshi']\n"
     ]
    }
   ],
   "source": [
    "frnds_list = [1, 'Shiva', 2, 'Arun', 3, 'Joshi']\n",
    "num_list = []\n",
    "for item in frnds_list:\n",
    "    if isinstance(item, str):\n",
    "        num_list.append(item)\n",
    "print(num_list)"
   ]
  },
  {
   "cell_type": "markdown",
   "id": "869fcf8d",
   "metadata": {},
   "source": [
    "# 12E.Given a list of numbers, write a function that returns a list that...\n",
    "###       Has all duplicate elements removed.\n",
    "###       Is sorted from least to greatest value."
   ]
  },
  {
   "cell_type": "code",
   "execution_count": 3,
   "id": "30552be1",
   "metadata": {},
   "outputs": [
    {
     "name": "stdout",
     "output_type": "stream",
     "text": [
      "[2, 4, 5, 6, 8, 9]\n"
     ]
    }
   ],
   "source": [
    "numbers = [2,5,6,4,2,4,6,8,9,5,8]\n",
    "unique_list = []\n",
    "i = 0\n",
    "while i < len(numbers):\n",
    "    if numbers[i] not in unique_list:\n",
    "        unique_list.append(numbers[i])\n",
    "    i += 1\n",
    "n = len(unique_list)\n",
    "while n > 1:\n",
    "    new_n = 0\n",
    "    for i in range(1, n):\n",
    "        if unique_list[i - 1] > unique_list[i]:\n",
    "            unique_list[i - 1], unique_list[i] = unique_list[i], unique_list[i - 1]\n",
    "            new_n = i\n",
    "    n = new_n\n",
    "print(unique_list)"
   ]
  },
  {
   "cell_type": "code",
   "execution_count": 4,
   "id": "c24afae9",
   "metadata": {},
   "outputs": [
    {
     "name": "stdout",
     "output_type": "stream",
     "text": [
      "[2, 4, 5, 6, 8, 9]\n"
     ]
    }
   ],
   "source": [
    "numbers = [2,5,6,4,2,4,6,8,9,5,8]\n",
    "unique_list = list(set(numbers))\n",
    "for i in range(len(unique_list)):\n",
    "    for j in range(0, len(unique_list) - i - 1):\n",
    "        if unique_list[j] > unique_list[j + 1]:\n",
    "            unique_list[j], unique_list[j + 1] = unique_list[j + 1], unique_list[j]\n",
    "print(unique_list)"
   ]
  },
  {
   "cell_type": "markdown",
   "id": "342f7076",
   "metadata": {},
   "source": [
    "# 13E.Create a function that sorts a list and removes all duplicate items from it."
   ]
  },
  {
   "cell_type": "code",
   "execution_count": 2,
   "id": "c37709d1",
   "metadata": {},
   "outputs": [
    {
     "name": "stdout",
     "output_type": "stream",
     "text": [
      "[2, 4, 5, 6, 8, 9]\n"
     ]
    }
   ],
   "source": [
    "numbers = [2,5,6,4,2,4,6,8,9,5,8]\n",
    "numbers.sort()\n",
    "i = 0\n",
    "while i < len(numbers) - 1:\n",
    "    if numbers[i] == numbers[i + 1]:\n",
    "        del numbers[i]\n",
    "    else:\n",
    "        i += 1\n",
    "print(numbers)"
   ]
  },
  {
   "cell_type": "code",
   "execution_count": 5,
   "id": "01a7d8ad",
   "metadata": {},
   "outputs": [
    {
     "name": "stdout",
     "output_type": "stream",
     "text": [
      "[2, 4, 5, 6, 8, 9]\n"
     ]
    }
   ],
   "source": [
    "numbers = [2,5,6,4,2,4,6,8,9,5,8]\n",
    "for i in range(len(numbers)):\n",
    "    for j in range(0, len(numbers)-i-1):\n",
    "        if numbers[j] > numbers[j+1]:\n",
    "            numbers[j], numbers[j+1] = numbers[j+1], numbers[j]\n",
    "unique_list = []\n",
    "for num in numbers:\n",
    "    if num not in unique_list:\n",
    "        unique_list.append(num)\n",
    "print(unique_list)"
   ]
  },
  {
   "cell_type": "markdown",
   "id": "40c68e98",
   "metadata": {},
   "source": [
    "# 14E. Create a function that takes a dictionary of student names and returns a list of student names in alphabetical order."
   ]
  },
  {
   "cell_type": "code",
   "execution_count": 16,
   "id": "dc1388ce",
   "metadata": {},
   "outputs": [
    {
     "name": "stdout",
     "output_type": "stream",
     "text": [
      "['Arun', 'Joshi', 'Shiva']\n"
     ]
    }
   ],
   "source": [
    "students = {\n",
    "    3: 'Arun',\n",
    "    1: 'Shiva',\n",
    "    2: 'Joshi',\n",
    "}\n",
    "names = []\n",
    "while students:\n",
    "    min_key = min(students.keys())\n",
    "    names.append(students.pop(min_key))\n",
    "    names.sort()\n",
    "print(names)"
   ]
  },
  {
   "cell_type": "code",
   "execution_count": 15,
   "id": "0be358e8",
   "metadata": {},
   "outputs": [
    {
     "name": "stdout",
     "output_type": "stream",
     "text": [
      "['Arun', 'Joshi', 'Shiva']\n"
     ]
    }
   ],
   "source": [
    "students = {\n",
    "     'Arun' : 3,\n",
    "     'Shiva': 1,\n",
    "     'Joshi': 2,\n",
    "}\n",
    "names = list(students.keys())\n",
    "for i in range(len(names)):\n",
    "    for j in range(i + 1, len(names)):\n",
    "        if names[i] > names[j]:\n",
    "            names[i], names[j] = names[j], names[i]\n",
    "print(names)"
   ]
  },
  {
   "cell_type": "markdown",
   "id": "f9942225",
   "metadata": {},
   "source": [
    "# 15E.Take a list of names.\n",
    "### Add \"Hello\" to every name.\n",
    "### Make one big string with all greetings.\n",
    "### The solution should be one string with a comma in between every \"Hello (Name)\"."
   ]
  },
  {
   "cell_type": "code",
   "execution_count": 18,
   "id": "e98eb2bd",
   "metadata": {},
   "outputs": [
    {
     "name": "stdout",
     "output_type": "stream",
     "text": [
      "emra Arun, emra Joshi, emra Shiva\n"
     ]
    }
   ],
   "source": [
    "names = ['Arun', 'Joshi', 'Shiva']\n",
    "greetings = \"\"\n",
    "x = 0\n",
    "while x < len(names):\n",
    "    greetings += \"emra \" + names[x]\n",
    "    if x < len(names) - 1:\n",
    "        greetings += \", \"\n",
    "    x += 1\n",
    "print(greetings)"
   ]
  },
  {
   "cell_type": "code",
   "execution_count": 19,
   "id": "83ca843b",
   "metadata": {},
   "outputs": [
    {
     "name": "stdout",
     "output_type": "stream",
     "text": [
      "emra Arun, emra Joshi, emra Shiva\n"
     ]
    }
   ],
   "source": [
    "names = ['Arun', 'Joshi', 'Shiva']\n",
    "greetings = \"\"\n",
    "for name in names:\n",
    "    greetings += f\"emra {name}, \"\n",
    "greetings = greetings[:-2]\n",
    "print(greetings)"
   ]
  },
  {
   "cell_type": "markdown",
   "id": "baa3c8f4",
   "metadata": {},
   "source": [
    "# 16E.Create a function that returns the mean of all digits."
   ]
  },
  {
   "cell_type": "code",
   "execution_count": 21,
   "id": "0448b4ee",
   "metadata": {},
   "outputs": [
    {
     "name": "stdout",
     "output_type": "stream",
     "text": [
      "Mean of the digits: 6.5\n"
     ]
    }
   ],
   "source": [
    "number = 458976\n",
    "total = 0\n",
    "count = 0\n",
    "while number > 0:\n",
    "    digit = number % 10\n",
    "    total += digit\n",
    "    count += 1\n",
    "    number = number // 10\n",
    "mean = total / count\n",
    "print(\"Mean of the digits:\", mean)"
   ]
  },
  {
   "cell_type": "code",
   "execution_count": 23,
   "id": "0287ff21",
   "metadata": {},
   "outputs": [
    {
     "name": "stdout",
     "output_type": "stream",
     "text": [
      "Mean: 6.5\n"
     ]
    }
   ],
   "source": [
    "numbers = [4,5,8,9,7,6]\n",
    "total = 0\n",
    "count = 0\n",
    "for number in numbers:\n",
    "    total += number\n",
    "    count += 1\n",
    "mean = total / count\n",
    "print(\"Mean:\", mean)"
   ]
  },
  {
   "cell_type": "markdown",
   "id": "a7d93ebc",
   "metadata": {},
   "source": [
    "# 17E.Create a function which returns a list of booleans, from a given number. Iterating through the number one digit at a time, append True if the digit is 1 and False if it is 0."
   ]
  },
  {
   "cell_type": "code",
   "execution_count": 24,
   "id": "6732298d",
   "metadata": {},
   "outputs": [
    {
     "name": "stdout",
     "output_type": "stream",
     "text": [
      "[True, True, True, False, False, False, False, True, True, True, False, True, False, True, False, False, False, False, True]\n"
     ]
    }
   ],
   "source": [
    "number = 1110000111010100001\n",
    "bool_list = []\n",
    "while number > 0:\n",
    "    digit = number % 10\n",
    "    if digit == 1:\n",
    "        bool_list.append(True)\n",
    "    else:\n",
    "        bool_list.append(False)\n",
    "    number //= 10\n",
    "bool_list.reverse()\n",
    "print(bool_list)"
   ]
  },
  {
   "cell_type": "code",
   "execution_count": 29,
   "id": "a083b645",
   "metadata": {},
   "outputs": [
    {
     "name": "stdout",
     "output_type": "stream",
     "text": [
      "[True]\n",
      "[True]\n",
      "[True]\n",
      "[False]\n",
      "[False]\n",
      "[False]\n",
      "[True]\n",
      "[True]\n",
      "[True]\n",
      "[False]\n"
     ]
    }
   ],
   "source": [
    "number = 1110001110\n",
    "for digit in str(number):\n",
    "    result = [digit == '1']\n",
    "    print(result)"
   ]
  },
  {
   "cell_type": "markdown",
   "id": "e1fc2771",
   "metadata": {},
   "source": [
    "#                                 End of easy loops                          #"
   ]
  },
  {
   "cell_type": "markdown",
   "id": "626f0e73",
   "metadata": {},
   "source": [
    "#                                 Start of medium loops                   #"
   ]
  },
  {
   "cell_type": "markdown",
   "id": "045f6d51",
   "metadata": {},
   "source": [
    "# 18M.Create a function that takes two numbers as arguments (num, length) and returns a list of multiples of num until the list length reaches length."
   ]
  },
  {
   "cell_type": "code",
   "execution_count": 31,
   "id": "291dd460",
   "metadata": {},
   "outputs": [
    {
     "name": "stdout",
     "output_type": "stream",
     "text": [
      "[12, 24, 36, 48, 60, 72]\n"
     ]
    }
   ],
   "source": [
    "num = 12\n",
    "length = 6\n",
    "multiples = []\n",
    "x = 0\n",
    "while len(multiples) < length:\n",
    "    multiples.append(num * (x + 1))\n",
    "    x += 1\n",
    "print(multiples)"
   ]
  },
  {
   "cell_type": "code",
   "execution_count": 32,
   "id": "b6ccf13e",
   "metadata": {},
   "outputs": [
    {
     "name": "stdout",
     "output_type": "stream",
     "text": [
      "[12, 24, 36, 48, 60, 72]\n"
     ]
    }
   ],
   "source": [
    "num = 12\n",
    "length = 6\n",
    "multiples = []\n",
    "for i in range(1, length + 1):\n",
    "    multiples.append(num * i)\n",
    "print(multiples)"
   ]
  },
  {
   "cell_type": "markdown",
   "id": "13816178",
   "metadata": {},
   "source": [
    "# 19M.Write a function that accepts the height and width (m, n) and an optional proc s and generates a list with m elements. Each element is a string consisting of either:\n",
    "\n",
    "The default character (hash #) repeating n times (if no proc is given).\n",
    "The character passed in through the proc repeating n times."
   ]
  },
  {
   "cell_type": "code",
   "execution_count": 36,
   "id": "1169b36b",
   "metadata": {},
   "outputs": [
    {
     "name": "stdout",
     "output_type": "stream",
     "text": [
      "['@@', '@@', '@@', '@@', '@@', '@@', '@@']\n"
     ]
    }
   ],
   "source": [
    "m = 7  # height\n",
    "n = 2  # width\n",
    "Spcl_sym = '@'\n",
    "result = []\n",
    "while m > 0:\n",
    "    if Spcl_sym:\n",
    "        result.append(Spcl_sym * n)\n",
    "    else:\n",
    "        result.append('#' * n)\n",
    "    m -= 1\n",
    "print(result)"
   ]
  },
  {
   "cell_type": "code",
   "execution_count": 43,
   "id": "745a8257",
   "metadata": {},
   "outputs": [
    {
     "name": "stdout",
     "output_type": "stream",
     "text": [
      "['@@']\n",
      "['@@']\n",
      "['@@']\n",
      "['@@']\n",
      "['@@']\n",
      "['@@']\n",
      "['@@']\n"
     ]
    }
   ],
   "source": [
    "m = 7  # height\n",
    "n = 2  # width\n",
    "s = '@'  \n",
    "for i in range(m):\n",
    "    result = [s * n]\n",
    "    print(result)"
   ]
  },
  {
   "cell_type": "markdown",
   "id": "dd8bed40",
   "metadata": {},
   "source": [
    "# 20M.In each input list, every number repeats at least once, except for two. Write a function that returns the two unique numbers."
   ]
  },
  {
   "cell_type": "code",
   "execution_count": 47,
   "id": "ff5733b8",
   "metadata": {},
   "outputs": [
    {
     "name": "stdout",
     "output_type": "stream",
     "text": [
      "The two unique numbers are: [6, 1]\n"
     ]
    }
   ],
   "source": [
    "input_list = [2,4,5,2,4,2,4,5,6,4,1,2]\n",
    "unique_numbers = []\n",
    "while len(input_list) > 0:\n",
    "    num = input_list.pop(0)\n",
    "    if num in unique_numbers:\n",
    "        unique_numbers.remove(num)\n",
    "    else:\n",
    "        unique_numbers.append(num)\n",
    "if len(unique_numbers) == 2:\n",
    "    print(\"The two unique numbers are:\", unique_numbers)"
   ]
  },
  {
   "cell_type": "code",
   "execution_count": 51,
   "id": "d36c920b",
   "metadata": {},
   "outputs": [
    {
     "name": "stdout",
     "output_type": "stream",
     "text": [
      "The two unique numbers are: [6, 1]\n"
     ]
    }
   ],
   "source": [
    "input_list = [2,4,5,2,4,2,4,5,6,4,1,2]\n",
    "input_length = len(input_list)\n",
    "unique_numbers = []\n",
    "for i in range(input_length):\n",
    "    if input_list.count(input_list[i]) == 1:\n",
    "        unique_numbers.append(input_list[i])\n",
    "        if len(unique_numbers) == 2:\n",
    "            break\n",
    "print(\"The two unique numbers are:\", unique_numbers)"
   ]
  },
  {
   "cell_type": "markdown",
   "id": "5f2fa661",
   "metadata": {},
   "source": [
    "# 21M.A number is said to be Harshad if it's exactly divisible by the sum of its digits. Create a function that determines whether a number is a Harshad or not."
   ]
  },
  {
   "cell_type": "code",
   "execution_count": 64,
   "id": "aa661a2c",
   "metadata": {},
   "outputs": [
    {
     "name": "stdout",
     "output_type": "stream",
     "text": [
      "41 is not a Harshad number\n"
     ]
    }
   ],
   "source": [
    "num = 41\n",
    "original_num = num\n",
    "sum_of_digits = 0\n",
    "while num > 0:\n",
    "    sum_of_digits += num % 10\n",
    "    num //= 10\n",
    "if original_num % sum_of_digits == 0:\n",
    "    print(f\"{original_num} is a Harshad number\")\n",
    "else:\n",
    "    print(f\"{original_num} is not a Harshad number\")"
   ]
  },
  {
   "cell_type": "code",
   "execution_count": 68,
   "id": "fe1a79f2",
   "metadata": {},
   "outputs": [
    {
     "name": "stdout",
     "output_type": "stream",
     "text": [
      "18 is a Harshad number\n"
     ]
    }
   ],
   "source": [
    "number = 18\n",
    "num_str = str(number)\n",
    "sum_of_digits = 0\n",
    "for digit in num_str:\n",
    "    sum_of_digits += int(digit)\n",
    "if number % sum_of_digits == 0:\n",
    "    print(f\"{number} is a Harshad number\")\n",
    "else:\n",
    "    print(f\"{number} is not a Harshad number\")"
   ]
  },
  {
   "cell_type": "markdown",
   "id": "a1f3514d",
   "metadata": {},
   "source": [
    "# 22M.Create a function that takes in a list of miles run every Saturday and returns Johnny's total number of progress days."
   ]
  },
  {
   "cell_type": "code",
   "execution_count": 71,
   "id": "1e9b2c59",
   "metadata": {},
   "outputs": [
    {
     "name": "stdout",
     "output_type": "stream",
     "text": [
      "Johnny's total number of progress days: 5\n"
     ]
    }
   ],
   "source": [
    "miles_run = [2,1,2,4,5,6,4,7]\n",
    "progress_days = 0\n",
    "x = 1\n",
    "while x < len(miles_run):\n",
    "    if miles_run[x] > miles_run[x - 1]:\n",
    "        progress_days += 1\n",
    "    x += 1\n",
    "print(\"Johnny's total number of progress days:\", progress_days)"
   ]
  },
  {
   "cell_type": "code",
   "execution_count": 72,
   "id": "45d59f67",
   "metadata": {},
   "outputs": [
    {
     "name": "stdout",
     "output_type": "stream",
     "text": [
      "Total number of progress days: 5\n"
     ]
    }
   ],
   "source": [
    "miles_run = [2,1,2,4,5,6,4,7]\n",
    "progress_days = 0\n",
    "for i in range(1, len(miles_run)):\n",
    "    if miles_run[i] > miles_run[i - 1]:\n",
    "        progress_days += 1\n",
    "print(\"Total number of progress days:\", progress_days)"
   ]
  },
  {
   "cell_type": "markdown",
   "id": "f6368476",
   "metadata": {},
   "source": [
    "# 23M.Create a function that takes an integer and outputs an n x n square solely consisting of the integer n."
   ]
  },
  {
   "cell_type": "code",
   "execution_count": 74,
   "id": "b2444c7e",
   "metadata": {},
   "outputs": [
    {
     "name": "stdout",
     "output_type": "stream",
     "text": [
      "333\n",
      "333\n",
      "333\n"
     ]
    }
   ],
   "source": [
    "n = 3\n",
    "i = 0\n",
    "while i < n:\n",
    "    print(str(n) * n)\n",
    "    i += 1"
   ]
  },
  {
   "cell_type": "code",
   "execution_count": 76,
   "id": "a0094509",
   "metadata": {},
   "outputs": [
    {
     "name": "stdout",
     "output_type": "stream",
     "text": [
      "333\n",
      "333\n",
      "333\n"
     ]
    }
   ],
   "source": [
    "n = 3\n",
    "for i in range(n):\n",
    "    row = [str(n) for _ in range(n)]\n",
    "    print(''.join(row))"
   ]
  },
  {
   "cell_type": "markdown",
   "id": "76e3e8db",
   "metadata": {},
   "source": [
    "# 24M.The iterated square root of a number is the number of times the square root function must be applied to bring the number strictly under 2.\n",
    "\n",
    "Given an integer, return its iterated square root. Return \"invalid\" if it is negative."
   ]
  },
  {
   "cell_type": "code",
   "execution_count": 77,
   "id": "0dc86567",
   "metadata": {},
   "outputs": [
    {
     "name": "stdout",
     "output_type": "stream",
     "text": [
      "3\n"
     ]
    }
   ],
   "source": [
    "number = 27\n",
    "if number < 0:\n",
    "    result = \"invalid\"\n",
    "else:\n",
    "    count = 0\n",
    "    while number >= 2:\n",
    "        number = number ** 0.5\n",
    "        count += 1\n",
    "    result = count\n",
    "print(result)"
   ]
  },
  {
   "cell_type": "code",
   "execution_count": 78,
   "id": "16e4a472",
   "metadata": {},
   "outputs": [
    {
     "name": "stdout",
     "output_type": "stream",
     "text": [
      "3\n"
     ]
    }
   ],
   "source": [
    "number = 27\n",
    "if number < 0:\n",
    "    result = \"invalid\"\n",
    "else:\n",
    "    count = 0\n",
    "    for count in range(number):\n",
    "        if number < 2:\n",
    "            break\n",
    "        number = number ** 0.5\n",
    "    else:\n",
    "        count += 1\n",
    "    result = count\n",
    "print(result)"
   ]
  },
  {
   "cell_type": "markdown",
   "id": "5b25ecd0",
   "metadata": {},
   "source": [
    "# 25M.Create a function that returns the amount of duplicate characters in a string. It will be case sensitive and spaces are included. If there are no duplicates, return 0."
   ]
  },
  {
   "cell_type": "code",
   "execution_count": 90,
   "id": "811835ad",
   "metadata": {},
   "outputs": [
    {
     "name": "stdout",
     "output_type": "stream",
     "text": [
      "1\n"
     ]
    }
   ],
   "source": [
    "string = \"Shiva Ram\"\n",
    "count = 0\n",
    "y = set()\n",
    "x = 0\n",
    "while x < len(string):\n",
    "    if string[x] in y:\n",
    "        count += 1\n",
    "    else:\n",
    "        y.add(string[x])\n",
    "    x += 1\n",
    "    result = count\n",
    "print(result)"
   ]
  },
  {
   "cell_type": "code",
   "execution_count": 101,
   "id": "e9ba3402",
   "metadata": {
    "scrolled": true
   },
   "outputs": [
    {
     "name": "stdout",
     "output_type": "stream",
     "text": [
      "1\n"
     ]
    }
   ],
   "source": [
    "string = \"Shiva Ram\"\n",
    "count = 0\n",
    "y = set()\n",
    "for x in string:\n",
    "    if x in y and string.count(x) > 1:\n",
    "        count += 1\n",
    "        y.discard(x)\n",
    "    elif string.count(x) > 1:\n",
    "        y.add(x)\n",
    "result = count\n",
    "print(result)"
   ]
  }
 ],
 "metadata": {
  "kernelspec": {
   "display_name": "Python 3 (ipykernel)",
   "language": "python",
   "name": "python3"
  },
  "language_info": {
   "codemirror_mode": {
    "name": "ipython",
    "version": 3
   },
   "file_extension": ".py",
   "mimetype": "text/x-python",
   "name": "python",
   "nbconvert_exporter": "python",
   "pygments_lexer": "ipython3",
   "version": "3.11.5"
  }
 },
 "nbformat": 4,
 "nbformat_minor": 5
}
